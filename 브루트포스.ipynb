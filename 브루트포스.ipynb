{
 "cells": [
  {
   "cell_type": "code",
   "execution_count": 11,
   "id": "4e68ca85",
   "metadata": {},
   "outputs": [
    {
     "name": "stdout",
     "output_type": "stream",
     "text": [
      "497\n"
     ]
    }
   ],
   "source": [
    "### 2798 - 블랙잭\n",
    "\n",
    "## 코드 plan\n",
    "'''\n",
    "1. 5개의 입력\n",
    "2. 목표 number\n",
    "3. 선택가능한 숫자들\n",
    "\n",
    "수학적 원리:\n",
    "방법1) 나올 수 있는 모든 경우의 수 중 목표number와의 차가 가장 작은 조합 선택\n",
    "방법2) \n",
    "\n",
    "'''\n",
    "\n",
    "## 코드 구현\n",
    "N, M = map(int, input().split(' '))\n",
    "numbers = list(map(int, input().split(' ', maxsplit= N )))\n",
    "max_num = 0\n",
    "# 세개의 for루프를 통해 중복을 허용하지 않는 경우의 수 구하기\n",
    "for i in range(N):\n",
    "    for j in range(i+1,N):\n",
    "        for k in range(j+1,N):\n",
    "            case = numbers[i] + numbers[j] + numbers[k]\n",
    "            if case <= M:\n",
    "                max_num = max(max_num, case)    # The max_num is updated to the bigger case(all cases achieve the requirment)\n",
    "print(max_num)\n",
    "\n",
    "    "
   ]
  },
  {
   "cell_type": "code",
   "execution_count": null,
   "id": "fa4de0fd",
   "metadata": {},
   "outputs": [
    {
     "name": "stdout",
     "output_type": "stream",
     "text": [
      "3\n"
     ]
    }
   ],
   "source": []
  }
 ],
 "metadata": {
  "kernelspec": {
   "display_name": "base",
   "language": "python",
   "name": "python3"
  },
  "language_info": {
   "codemirror_mode": {
    "name": "ipython",
    "version": 3
   },
   "file_extension": ".py",
   "mimetype": "text/x-python",
   "name": "python",
   "nbconvert_exporter": "python",
   "pygments_lexer": "ipython3",
   "version": "3.11.7"
  }
 },
 "nbformat": 4,
 "nbformat_minor": 5
}
