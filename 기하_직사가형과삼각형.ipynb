{
 "cells": [
  {
   "cell_type": "code",
   "execution_count": null,
   "id": "f94c234b",
   "metadata": {},
   "outputs": [
    {
     "data": {
      "text/plain": [
       "4.123105625617661"
      ]
     },
     "execution_count": 1,
     "metadata": {},
     "output_type": "execute_result"
    }
   ],
   "source": [
    "## 27323 - 직사각형\n",
    "\n",
    "A = int(input())\n",
    "B = int(input())\n",
    "print(A*B)"
   ]
  },
  {
   "cell_type": "code",
   "execution_count": 8,
   "id": "525a80e4",
   "metadata": {},
   "outputs": [
    {
     "ename": "ValueError",
     "evalue": "invalid literal for int() with base 10: ''",
     "output_type": "error",
     "traceback": [
      "\u001b[1;31m---------------------------------------------------------------------------\u001b[0m",
      "\u001b[1;31mValueError\u001b[0m                                Traceback (most recent call last)",
      "Cell \u001b[1;32mIn[8], line 10\u001b[0m\n\u001b[0;32m      4\u001b[0m \u001b[38;5;124;03m'''\u001b[39;00m\n\u001b[0;32m      5\u001b[0m \u001b[38;5;124;03m1. 우선 직사각형의 영역을 확인하는 코드 생성\u001b[39;00m\n\u001b[0;32m      6\u001b[0m \u001b[38;5;124;03m2. 가장 가까운 변 = x나y중 하나는 값이 동일하며 경계선과 가까운 쪽이 연결됨\u001b[39;00m\n\u001b[0;32m      7\u001b[0m \u001b[38;5;124;03m'''\u001b[39;00m\n\u001b[0;32m      9\u001b[0m \u001b[38;5;66;03m# 코드 구현\u001b[39;00m\n\u001b[1;32m---> 10\u001b[0m x, y, w, h \u001b[38;5;241m=\u001b[39m \u001b[38;5;28mmap\u001b[39m(\u001b[38;5;28mint\u001b[39m, \u001b[38;5;28minput\u001b[39m()\u001b[38;5;241m.\u001b[39msplit(\u001b[38;5;124m'\u001b[39m\u001b[38;5;124m \u001b[39m\u001b[38;5;124m'\u001b[39m))\n\u001b[0;32m     11\u001b[0m chances \u001b[38;5;241m=\u001b[39m [w\u001b[38;5;241m-\u001b[39mx, h\u001b[38;5;241m-\u001b[39my, x, y]\n\u001b[0;32m     12\u001b[0m \u001b[38;5;28mprint\u001b[39m(\u001b[38;5;28mmin\u001b[39m(chances))\n",
      "\u001b[1;31mValueError\u001b[0m: invalid literal for int() with base 10: ''"
     ]
    }
   ],
   "source": [
    "## 1085 - 직사각형 탈출\n",
    "\n",
    "# 코드 plan\n",
    "'''\n",
    "1. 우선 직사각형의 영역을 확인하는 코드 생성\n",
    "2. 가장 가까운 변 = x나y중 하나는 값이 동일하며 경계선과 가까운 쪽이 연결됨\n",
    "'''\n",
    "\n",
    "# 코드 구현\n",
    "x, y, w, h = map(int, input().split(' '))\n",
    "chances = [w-x, h-y, x, y]\n",
    "print(min(chances))"
   ]
  },
  {
   "cell_type": "code",
   "execution_count": null,
   "id": "4603ba1a",
   "metadata": {},
   "outputs": [],
   "source": []
  }
 ],
 "metadata": {
  "kernelspec": {
   "display_name": "base",
   "language": "python",
   "name": "python3"
  },
  "language_info": {
   "codemirror_mode": {
    "name": "ipython",
    "version": 3
   },
   "file_extension": ".py",
   "mimetype": "text/x-python",
   "name": "python",
   "nbconvert_exporter": "python",
   "pygments_lexer": "ipython3",
   "version": "3.11.7"
  }
 },
 "nbformat": 4,
 "nbformat_minor": 5
}
