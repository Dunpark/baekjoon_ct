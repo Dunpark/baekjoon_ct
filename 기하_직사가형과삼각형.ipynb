{
 "cells": [
  {
   "cell_type": "code",
   "execution_count": null,
   "id": "f94c234b",
   "metadata": {},
   "outputs": [
    {
     "data": {
      "text/plain": [
       "4.123105625617661"
      ]
     },
     "execution_count": 1,
     "metadata": {},
     "output_type": "execute_result"
    }
   ],
   "source": [
    "## 27323 - 직사각형\n",
    "\n",
    "A = int(input())\n",
    "B = int(input())\n",
    "print(A*B)"
   ]
  },
  {
   "cell_type": "code",
   "execution_count": 8,
   "id": "525a80e4",
   "metadata": {},
   "outputs": [
    {
     "ename": "ValueError",
     "evalue": "invalid literal for int() with base 10: ''",
     "output_type": "error",
     "traceback": [
      "\u001b[1;31m---------------------------------------------------------------------------\u001b[0m",
      "\u001b[1;31mValueError\u001b[0m                                Traceback (most recent call last)",
      "Cell \u001b[1;32mIn[8], line 10\u001b[0m\n\u001b[0;32m      4\u001b[0m \u001b[38;5;124;03m'''\u001b[39;00m\n\u001b[0;32m      5\u001b[0m \u001b[38;5;124;03m1. 우선 직사각형의 영역을 확인하는 코드 생성\u001b[39;00m\n\u001b[0;32m      6\u001b[0m \u001b[38;5;124;03m2. 가장 가까운 변 = x나y중 하나는 값이 동일하며 경계선과 가까운 쪽이 연결됨\u001b[39;00m\n\u001b[0;32m      7\u001b[0m \u001b[38;5;124;03m'''\u001b[39;00m\n\u001b[0;32m      9\u001b[0m \u001b[38;5;66;03m# 코드 구현\u001b[39;00m\n\u001b[1;32m---> 10\u001b[0m x, y, w, h \u001b[38;5;241m=\u001b[39m \u001b[38;5;28mmap\u001b[39m(\u001b[38;5;28mint\u001b[39m, \u001b[38;5;28minput\u001b[39m()\u001b[38;5;241m.\u001b[39msplit(\u001b[38;5;124m'\u001b[39m\u001b[38;5;124m \u001b[39m\u001b[38;5;124m'\u001b[39m))\n\u001b[0;32m     11\u001b[0m chances \u001b[38;5;241m=\u001b[39m [w\u001b[38;5;241m-\u001b[39mx, h\u001b[38;5;241m-\u001b[39my, x, y]\n\u001b[0;32m     12\u001b[0m \u001b[38;5;28mprint\u001b[39m(\u001b[38;5;28mmin\u001b[39m(chances))\n",
      "\u001b[1;31mValueError\u001b[0m: invalid literal for int() with base 10: ''"
     ]
    }
   ],
   "source": [
    "## 1085 - 직사각형 탈출\n",
    "\n",
    "# 코드 plan\n",
    "'''\n",
    "1. 우선 직사각형의 영역을 확인하는 코드 생성\n",
    "2. 가장 가까운 변 = x나y중 하나는 값이 동일하며 경계선과 가까운 쪽이 연결됨\n",
    "'''\n",
    "\n",
    "# 코드 구현\n",
    "x, y, w, h = map(int, input().split(' '))\n",
    "chances = [w-x, h-y, x, y]\n",
    "print(min(chances))"
   ]
  },
  {
   "cell_type": "code",
   "execution_count": null,
   "id": "167cb1d7",
   "metadata": {},
   "outputs": [],
   "source": [
    "### 3009 네 번쨰 점\n",
    "\n",
    "## 코드plan\n",
    "'''\n",
    "x1,y1\n",
    "x1,y2\n",
    "x2,y1\n",
    "x2,y2\n",
    "\n",
    "모든 성분이 각각 2개씩 있어야하며 x,y 각각 2쌍이다\n",
    "--> x,y에 따라 하나만 있는 좌표가 결국 남은 좌표임\n",
    "'''\n",
    "\n",
    "## 코드 구현\n",
    "x1,y1  = map(int, input().split(' '))\n",
    "x2,y2  = map(int, input().split(' '))\n",
    "x3,y3  = map(int, input().split(' '))\n",
    "if x1 == x2:\n",
    "    x4 = x3\n",
    "elif x2 == x3:\n",
    "    x4 = x1\n",
    "else: \n",
    "    x4 = x2\n",
    "if y1 == y2:\n",
    "    y4 = y3\n",
    "elif y2 == y3:\n",
    "    y4 = y1\n",
    "else: \n",
    "    y4 = y2\n",
    "print(x4,y4)\n"
   ]
  },
  {
   "cell_type": "code",
   "execution_count": null,
   "id": "e27e13a1",
   "metadata": {},
   "outputs": [],
   "source": [
    "### 15894 - 수학은 체육과목입니다\n",
    "\n",
    "## 코드 plan\n",
    "'''\n",
    "데이터분석:\n",
    "    입력에 따른 출력\n",
    "    1. 4 \n",
    "    2. 8\n",
    "    3. 12\n",
    "    예측 4. 16\n",
    "    -> 규칙 = 입력*4\n",
    "'''\n",
    "\n",
    "# 코드 구현\n",
    "n = int(input())\n",
    "print(n*4) "
   ]
  },
  {
   "cell_type": "code",
   "execution_count": null,
   "id": "4603ba1a",
   "metadata": {},
   "outputs": [
    {
     "name": "stdout",
     "output_type": "stream",
     "text": [
      "9\n"
     ]
    }
   ],
   "source": [
    "### 9063 대지\n",
    "\n",
    "## 데이터분석\n",
    "'''\n",
    "1. 좌표의 개수는 미정이며 두개이상 나와야 범위 생성됨 \n",
    "    *좌표 개수가 2미만이면 0 출력\n",
    "2. 좌표가 2개일때\n",
    "    2-1: x2-x1 * y2-y1 \n",
    "3. 좌표가 3개이상일 떄 --> 제일 큰 직사각형 찾기\n",
    "    3-1: min(x), max(x), min(y), max(y)를 이은 직사각형 넓이\n",
    "\n",
    "*음수의 경우 고려\n",
    "--> 음수가 있는 경우에는 원리는 동일하나 넓이에 절대값을 붙여야 함\n",
    "'''\n",
    "\n",
    "## 코드 구현  \n",
    "N = int(input())\n",
    "if N < 2:\n",
    "    print(0)\n",
    "else:\n",
    "    xlist = []\n",
    "    ylist = []\n",
    "    for _ in range(N):\n",
    "        x, y = map(int, input().split())\n",
    "        xlist.append(x)\n",
    "        ylist.append(y)\n",
    "    width = max(xlist) - min(xlist)\n",
    "    height = max(ylist) - min(ylist)\n",
    "    print(width * height)\n",
    "\n",
    "\n",
    "     "
   ]
  },
  {
   "cell_type": "code",
   "execution_count": 15,
   "id": "53768254",
   "metadata": {},
   "outputs": [
    {
     "name": "stdout",
     "output_type": "stream",
     "text": [
      "Scalene\n"
     ]
    }
   ],
   "source": [
    "### 1010 삼각형 외우기\n",
    "\n",
    "## 코드 plan:\n",
    "'''\n",
    "1. 세개의 각 입력 받기\n",
    "2. if 합 60 = equilateral\n",
    "3. if 합 180 & 두개 동일 = lsosceles\n",
    "4. if 합 180 & 동일  X = Scalene\n",
    "5. if 합 != 180 = error\n",
    "'''\n",
    "\n",
    "## 코드구현\n",
    "x = int(input())\n",
    "y = int(input())\n",
    "z = int(input())\n",
    "if x == y == z == 60:\n",
    "    print('Equilateral')\n",
    "elif x+y+z == 180 and len(set([x,y,z])) == 2:\n",
    "    print('Isosceles')\n",
    "elif x+y+z == 180 and len(set([x,y,z])) == 3:\n",
    "    print('Scalene')\n",
    "elif x+y+z != 180:\n",
    "    print('Error')\n",
    "\n",
    "\n",
    "\n",
    "\n"
   ]
  },
  {
   "cell_type": "code",
   "execution_count": null,
   "id": "fd456d56",
   "metadata": {},
   "outputs": [
    {
     "name": "stdout",
     "output_type": "stream",
     "text": [
      "Equilateral\n",
      "Scalene\n",
      "Scalene\n",
      "Isosceles\n"
     ]
    }
   ],
   "source": [
    "### 5073 - 삼각형과 세 변\n",
    "\n",
    "## 코드 plan\n",
    "'''\n",
    "1. while loop에 input *if 000 = input 그럼 break\n",
    "2. 각 조건에 따라 print설정     *Invalid의 경우도 설정\n",
    "'''\n",
    "\n",
    "## 코드 구현\n",
    "while True:\n",
    "    sides = list(map(int, input().split(' ')))\n",
    "    if sides == [0,0,0]:\n",
    "        break\n",
    "    elif max(sides) >= (sorted(sides)[0] + sorted(sides)[1]):\n",
    "        print('Invalid')\n",
    "    elif len(set(sides)) == 1:\n",
    "        print('Equilateral')\n",
    "    elif len(set(sides)) == 2:\n",
    "        print('Isosceles')\n",
    "    elif len(set(sides)) == 3:\n",
    "        print('Scalene')\n",
    "    \n",
    "\n"
   ]
  },
  {
   "cell_type": "code",
   "execution_count": 11,
   "id": "ab40a6cc",
   "metadata": {},
   "outputs": [
    {
     "name": "stdout",
     "output_type": "stream",
     "text": [
      "113\n"
     ]
    }
   ],
   "source": [
    "## 14215 - 세막대\n",
    "\n",
    "## 코드 plan\n",
    "'''\n",
    "1. 세 막대의 길이 그대로 삼각형을 이룰 수 있는 지 --> max가 나머지의 합보다 작아야함\n",
    "    1-1: 이루면 둘레 = 세 막대길이 합\n",
    "    1-2: 못이루면 ((나머지 둘의 합) -1)로 max값인 막대길이 change 후 세 막대 총합 = 둘레\n",
    "'''\n",
    "\n",
    "## 코드 구현\n",
    "sticks = sorted(list(map(int, input().split(' '))))\n",
    "if sticks[2] < sticks[0]+sticks[1]:\n",
    "    print(sum(sticks))\n",
    "else:\n",
    "    sticks[2] = sticks[0] + sticks[1] -1\n",
    "    print(sum(sticks))\n",
    "    \n",
    "\n",
    "\n"
   ]
  },
  {
   "cell_type": "code",
   "execution_count": null,
   "id": "8b5077f9",
   "metadata": {},
   "outputs": [
    {
     "data": {
      "text/plain": [
       "[1, 5, 2]"
      ]
     },
     "execution_count": 6,
     "metadata": {},
     "output_type": "execute_result"
    }
   ],
   "source": []
  },
  {
   "cell_type": "code",
   "execution_count": null,
   "id": "6ef22657",
   "metadata": {},
   "outputs": [],
   "source": []
  }
 ],
 "metadata": {
  "kernelspec": {
   "display_name": "base",
   "language": "python",
   "name": "python3"
  },
  "language_info": {
   "codemirror_mode": {
    "name": "ipython",
    "version": 3
   },
   "file_extension": ".py",
   "mimetype": "text/x-python",
   "name": "python",
   "nbconvert_exporter": "python",
   "pygments_lexer": "ipython3",
   "version": "3.11.7"
  }
 },
 "nbformat": 4,
 "nbformat_minor": 5
}
