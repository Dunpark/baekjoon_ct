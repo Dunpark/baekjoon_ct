{
 "cells": [
  {
   "cell_type": "code",
   "execution_count": null,
   "id": "f94c234b",
   "metadata": {},
   "outputs": [
    {
     "data": {
      "text/plain": [
       "4.123105625617661"
      ]
     },
     "execution_count": 1,
     "metadata": {},
     "output_type": "execute_result"
    }
   ],
   "source": [
    "## 27323 - 직사각형\n",
    "\n",
    "A = int(input())\n",
    "B = int(input())\n",
    "print(A*B)"
   ]
  },
  {
   "cell_type": "code",
   "execution_count": 8,
   "id": "525a80e4",
   "metadata": {},
   "outputs": [
    {
     "ename": "ValueError",
     "evalue": "invalid literal for int() with base 10: ''",
     "output_type": "error",
     "traceback": [
      "\u001b[1;31m---------------------------------------------------------------------------\u001b[0m",
      "\u001b[1;31mValueError\u001b[0m                                Traceback (most recent call last)",
      "Cell \u001b[1;32mIn[8], line 10\u001b[0m\n\u001b[0;32m      4\u001b[0m \u001b[38;5;124;03m'''\u001b[39;00m\n\u001b[0;32m      5\u001b[0m \u001b[38;5;124;03m1. 우선 직사각형의 영역을 확인하는 코드 생성\u001b[39;00m\n\u001b[0;32m      6\u001b[0m \u001b[38;5;124;03m2. 가장 가까운 변 = x나y중 하나는 값이 동일하며 경계선과 가까운 쪽이 연결됨\u001b[39;00m\n\u001b[0;32m      7\u001b[0m \u001b[38;5;124;03m'''\u001b[39;00m\n\u001b[0;32m      9\u001b[0m \u001b[38;5;66;03m# 코드 구현\u001b[39;00m\n\u001b[1;32m---> 10\u001b[0m x, y, w, h \u001b[38;5;241m=\u001b[39m \u001b[38;5;28mmap\u001b[39m(\u001b[38;5;28mint\u001b[39m, \u001b[38;5;28minput\u001b[39m()\u001b[38;5;241m.\u001b[39msplit(\u001b[38;5;124m'\u001b[39m\u001b[38;5;124m \u001b[39m\u001b[38;5;124m'\u001b[39m))\n\u001b[0;32m     11\u001b[0m chances \u001b[38;5;241m=\u001b[39m [w\u001b[38;5;241m-\u001b[39mx, h\u001b[38;5;241m-\u001b[39my, x, y]\n\u001b[0;32m     12\u001b[0m \u001b[38;5;28mprint\u001b[39m(\u001b[38;5;28mmin\u001b[39m(chances))\n",
      "\u001b[1;31mValueError\u001b[0m: invalid literal for int() with base 10: ''"
     ]
    }
   ],
   "source": [
    "## 1085 - 직사각형 탈출\n",
    "\n",
    "# 코드 plan\n",
    "'''\n",
    "1. 우선 직사각형의 영역을 확인하는 코드 생성\n",
    "2. 가장 가까운 변 = x나y중 하나는 값이 동일하며 경계선과 가까운 쪽이 연결됨\n",
    "'''\n",
    "\n",
    "# 코드 구현\n",
    "x, y, w, h = map(int, input().split(' '))\n",
    "chances = [w-x, h-y, x, y]\n",
    "print(min(chances))"
   ]
  },
  {
   "cell_type": "code",
   "execution_count": null,
   "id": "167cb1d7",
   "metadata": {},
   "outputs": [],
   "source": [
    "### 3009 네 번쨰 점\n",
    "\n",
    "## 코드plan\n",
    "'''\n",
    "x1,y1\n",
    "x1,y2\n",
    "x2,y1\n",
    "x2,y2\n",
    "\n",
    "모든 성분이 각각 2개씩 있어야하며 x,y 각각 2쌍이다\n",
    "--> x,y에 따라 하나만 있는 좌표가 결국 남은 좌표임\n",
    "'''\n",
    "\n",
    "## 코드 구현\n",
    "x1,y1  = map(int, input().split(' '))\n",
    "x2,y2  = map(int, input().split(' '))\n",
    "x3,y3  = map(int, input().split(' '))\n",
    "if x1 == x2:\n",
    "    x4 = x3\n",
    "elif x2 == x3:\n",
    "    x4 = x1\n",
    "else: \n",
    "    x4 = x2\n",
    "if y1 == y2:\n",
    "    y4 = y3\n",
    "elif y2 == y3:\n",
    "    y4 = y1\n",
    "else: \n",
    "    y4 = y2\n",
    "print(x4,y4)\n"
   ]
  },
  {
   "cell_type": "code",
   "execution_count": null,
   "id": "e27e13a1",
   "metadata": {},
   "outputs": [],
   "source": [
    "### 15894 - 수학은 체육과목입니다\n",
    "\n",
    "## 코드 plan\n",
    "'''\n",
    "데이터분석:\n",
    "    입력에 따른 출력\n",
    "    1. 4 \n",
    "    2. 8\n",
    "    3. 12\n",
    "    예측 4. 16\n",
    "    -> 규칙 = 입력*4\n",
    "'''\n",
    "\n",
    "# 코드 구현\n",
    "n = int(input())\n",
    "print(n*4) "
   ]
  },
  {
   "cell_type": "code",
   "execution_count": null,
   "id": "4603ba1a",
   "metadata": {},
   "outputs": [],
   "source": [
    "### 9063 대지\n",
    "\n",
    "## 데이터분석\n",
    "'''\n",
    "1. 좌표의 개수는 미정이며 두개이상 나와야 범위 생성됨 \n",
    "    *좌표 개수가 2미만이면 0 출력\n",
    "2. 좌표가 2개일때\n",
    "    2-1: x2-x1 * y2-y1 \n",
    "3. 좌표가 3개이상일 떄\n",
    "    3-1: 제일 큰 직사각형 찾기기\n",
    "\n",
    "\n",
    "'''"
   ]
  }
 ],
 "metadata": {
  "kernelspec": {
   "display_name": "base",
   "language": "python",
   "name": "python3"
  },
  "language_info": {
   "codemirror_mode": {
    "name": "ipython",
    "version": 3
   },
   "file_extension": ".py",
   "mimetype": "text/x-python",
   "name": "python",
   "nbconvert_exporter": "python",
   "pygments_lexer": "ipython3",
   "version": "3.11.7"
  }
 },
 "nbformat": 4,
 "nbformat_minor": 5
}
