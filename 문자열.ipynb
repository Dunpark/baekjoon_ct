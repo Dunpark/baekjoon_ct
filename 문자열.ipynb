{
 "cells": [
  {
   "cell_type": "code",
   "execution_count": 1,
   "metadata": {},
   "outputs": [
    {
     "name": "stdout",
     "output_type": "stream",
     "text": [
      "r\n"
     ]
    }
   ],
   "source": [
    "#27866\n",
    "string = input()\n",
    "print(string[int(input())-1])"
   ]
  },
  {
   "cell_type": "code",
   "execution_count": 2,
   "metadata": {},
   "outputs": [
    {
     "name": "stdout",
     "output_type": "stream",
     "text": [
      "8\n"
     ]
    }
   ],
   "source": [
    "# 2743\n",
    "string = input()\n",
    "print(len(string))"
   ]
  },
  {
   "cell_type": "code",
   "execution_count": 6,
   "metadata": {},
   "outputs": [
    {
     "name": "stdout",
     "output_type": "stream",
     "text": [
      "AE\n",
      "OO\n",
      "AB\n"
     ]
    }
   ],
   "source": [
    "# 9086\n",
    "testcase = int(input())\n",
    "for i in range (0,testcase):\n",
    "    string = input()\n",
    "    print(f'{string[0]}{string[-1]}')\n",
    "\n"
   ]
  },
  {
   "cell_type": "code",
   "execution_count": 8,
   "metadata": {},
   "outputs": [
    {
     "name": "stdout",
     "output_type": "stream",
     "text": [
      "65\n"
     ]
    }
   ],
   "source": [
    "#11654\n",
    "ascii_code = ord(input())\n",
    "print(ascii_code)"
   ]
  },
  {
   "cell_type": "code",
   "execution_count": null,
   "metadata": {},
   "outputs": [
    {
     "name": "stdout",
     "output_type": "stream",
     "text": [
      "15\n"
     ]
    }
   ],
   "source": [
    "# 11720\n",
    "N = int(input())\n",
    "string = input()\n",
    "numbs = list(map(int, string))\n",
    "print(sum(numbs))"
   ]
  },
  {
   "cell_type": "code",
   "execution_count": 4,
   "metadata": {},
   "outputs": [
    {
     "name": "stdout",
     "output_type": "stream",
     "text": [
      "1 0 -1-12 -1-1-1-14 3 -1-17 5 -1-1-1-1-1-1-1-1-1-1-1"
     ]
    }
   ],
   "source": [
    "#10809\n",
    "lowercase_letters = list(map(chr, range(97, 123))) # ascii값들을 활용한 alphabet 불러오기 - chr이 문자열을 뜻하며 97번부커 123번이 영어소문자\n",
    "# uppercase_letters = list(map(chr, range(65, 91)))\n",
    "S = input()\n",
    "for i in lowercase_letters:\n",
    "    if i in S:\n",
    "        print(S.index(i), end =' ')\n",
    "    else:\n",
    "        print(-1, end=' ')\n"
   ]
  },
  {
   "cell_type": "code",
   "execution_count": 18,
   "metadata": {},
   "outputs": [
    {
     "name": "stdout",
     "output_type": "stream",
     "text": [
      "AAABBBCCC\n",
      "/////HHHHHTTTTTPPPPP\n"
     ]
    }
   ],
   "source": [
    "#2675\n",
    "'''\n",
    "T = int(input())\n",
    "R1, S1 = map(str ,input().split())\n",
    "R1 = int(R1)\n",
    "R2, S2 = map(str ,input().split())\n",
    "R1 = int(R1)\n",
    "R2 = int(R2)\n",
    "for i in S1:\n",
    "    print(i*R1, end = '' )\n",
    "for i in S2:\n",
    "    print(i*R2, end = '' )  \n",
    "'''\n",
    "#GPT's Ans\n",
    "T = int(input())\n",
    "for _ in range(T): # Gets number of inputs according to T\n",
    "    R, S = input().split() \n",
    "    R = int(R)\n",
    "    print(\"\".join(char * R for char in S)) # char*R is repeated for the amount of char in S\n",
    "# join(): repeats the same process in the function and connects the value with the object infront"
   ]
  },
  {
   "cell_type": "code",
   "execution_count": 40,
   "metadata": {},
   "outputs": [
    {
     "name": "stdout",
     "output_type": "stream",
     "text": [
      "6\n"
     ]
    }
   ],
   "source": [
    "#1152 \n",
    "words=0\n",
    "phrase = list(map(str, input().split()))\n",
    "for i in phrase:\n",
    "    if i.isalpha(): # .isalpha() - If the object is a word(within the alphabet) then give True\n",
    "        words+=1\n",
    "print(words)"
   ]
  },
  {
   "cell_type": "code",
   "execution_count": null,
   "metadata": {},
   "outputs": [
    {
     "name": "stdout",
     "output_type": "stream",
     "text": [
      "938\n"
     ]
    }
   ],
   "source": [
    "#2908\n",
    "d=[]\n",
    "C = list(map(str, input().split()))\n",
    "for i in C:\n",
    "    d.append(int(i[::-1])) # reversed(), [::-1]은 int에 적용불가\n",
    "print(max(d))\n",
    "\n",
    "# gpt's ans\n",
    "'''\n",
    "C = list(map(str, input().split())) \n",
    "print(max(int(i[::-1]) for i in C)) # for위치 - max() 내의 기능들이 수행된 후 최댓값 탐색됨됨\n",
    "'''"
   ]
  },
  {
   "cell_type": "code",
   "execution_count": null,
   "metadata": {},
   "outputs": [
    {
     "name": "stdout",
     "output_type": "stream",
     "text": [
      "9\n"
     ]
    }
   ],
   "source": [
    "# 5622\n",
    "upper = list(map(chr, range(65, 91)))\n",
    "word = input()\n",
    "count=0\n",
    "for i in word:\n",
    "    count+=1\n",
    "    if i ==1:\n",
    "        count+=1\n",
    "    elif i in upper[0:3]:\n",
    "        count+=2\n",
    "    elif i in upper[3:6]:\n",
    "        count+=3\n",
    "    elif i in upper[6:9]:\n",
    "        count+=4\n",
    "    elif i in upper[9:12]:\n",
    "        count+=5\n",
    "    elif i in upper[12:15]:\n",
    "        count+=6\n",
    "    elif i in upper[15:19]:\n",
    "        count+=7\n",
    "    elif i in upper[19:22]:\n",
    "        count+=8\n",
    "    elif i in upper[22:26]:\n",
    "        count+=9\n",
    "    else: \n",
    "        count+=10\n",
    "print(count) # 반복적이긴해도 동일하지는 않으니 자동화하기 애매함\n",
    "'''\n",
    "첫 4줄의 자동화:\n",
    "for i in word:\n",
    "    count += 1  # Each letter counts as 1\n",
    "    index = upper.index(i)  # Get the index of the letter # 순서에 따라 분류되므로 인덱스활용가능\n",
    "    count += index // 3  # Add the corresponding value based on its range # 3개씩 분류되므로 3으로 나눴을 때의 몫에 따라 더해지는 수를 정할 수 있음\n",
    "        ex) A는 0 // 3 = 0 그러면 결과만큼 더해짐 \n",
    "'''"
   ]
  },
  {
   "cell_type": "code",
   "execution_count": null,
   "metadata": {},
   "outputs": [],
   "source": [
    "#11718\n",
    "try:\n",
    "    while True: \n",
    "        word = input()\n",
    "        print(word)    \n",
    "except EOFError: #파일 끝을 만났을 때의 상태: 파일의 데이터를 읽는 중 더 이상 읽을 내용이 없으면 \"EOF 상태\" --> 해당 코드를 통해 예외처리\n",
    "    pass"
   ]
  }
 ],
 "metadata": {
  "kernelspec": {
   "display_name": "base",
   "language": "python",
   "name": "python3"
  },
  "language_info": {
   "codemirror_mode": {
    "name": "ipython",
    "version": 3
   },
   "file_extension": ".py",
   "mimetype": "text/x-python",
   "name": "python",
   "nbconvert_exporter": "python",
   "pygments_lexer": "ipython3",
   "version": "3.11.7"
  }
 },
 "nbformat": 4,
 "nbformat_minor": 2
}
