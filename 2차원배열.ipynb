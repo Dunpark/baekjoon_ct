{
 "cells": [
  {
   "cell_type": "code",
   "execution_count": 16,
   "metadata": {},
   "outputs": [
    {
     "ename": "ValueError",
     "evalue": "invalid literal for int() with base 10: ''",
     "output_type": "error",
     "traceback": [
      "\u001b[1;31m---------------------------------------------------------------------------\u001b[0m",
      "\u001b[1;31mValueError\u001b[0m                                Traceback (most recent call last)",
      "Cell \u001b[1;32mIn[16], line 26\u001b[0m\n\u001b[0;32m     20\u001b[0m \u001b[38;5;124;03m'''\u001b[39;00m\n\u001b[0;32m     21\u001b[0m \u001b[38;5;124;03melements = list(map(int, input().split()))\u001b[39;00m\n\u001b[0;32m     22\u001b[0m \u001b[38;5;124;03mmatrix_np = np.array(elements).reshape(rows, cols)\u001b[39;00m\n\u001b[0;32m     23\u001b[0m \u001b[38;5;124;03m'''\u001b[39;00m\n\u001b[0;32m     25\u001b[0m \u001b[38;5;66;03m# 행렬의 크기 N,M 받기\u001b[39;00m\n\u001b[1;32m---> 26\u001b[0m N, M \u001b[38;5;241m=\u001b[39m \u001b[38;5;28mmap\u001b[39m(\u001b[38;5;28mint\u001b[39m, \u001b[38;5;28minput\u001b[39m()\u001b[38;5;241m.\u001b[39msplit(\u001b[38;5;124m'\u001b[39m\u001b[38;5;124m \u001b[39m\u001b[38;5;124m'\u001b[39m))\n\u001b[0;32m     27\u001b[0m \u001b[38;5;66;03m# 방법1로 A,B 행렬 2개 생성\u001b[39;00m\n\u001b[0;32m     28\u001b[0m     \u001b[38;5;66;03m# matrix A 생성\u001b[39;00m\n\u001b[0;32m     29\u001b[0m Amatrix \u001b[38;5;241m=\u001b[39m []\n",
      "\u001b[1;31mValueError\u001b[0m: invalid literal for int() with base 10: ''"
     ]
    }
   ],
   "source": [
    "## 2738: N*M크기의 두 행렬 A와 B가 주어졌을 때, 두 행렬을 더하는 프로그램을 작성하시오.\n",
    "\n",
    "# 행렬 만드는 데 필요한 라이브러리 \n",
    "import numpy as np\n",
    "\n",
    "# input을 받아 행렬로 만드는 2가지 방법\n",
    "    # 1. 행과 열의 크기를 먼저 입력받아 matrix 생성 후 numpy배열로 변환\n",
    "        # matrix는 리스트로 이루어진 2차원 배열임(=리스트기반 행렬렬) = [[]]\n",
    "        # 넘파이배열로 변환하는 이유는 계산속도나 내제된 행렬연산기능이 더 많기 때문\n",
    "'''\n",
    "matrix = []\n",
    "for _ in range(row):\n",
    "    row = list(map(int, input().split()))  # 한 줄씩 입력받아 리스트로 변환\n",
    "    matrix.append(row)\n",
    "# NumPy 배열로 변환\n",
    "matrix_np = np.array(matrix)\n",
    "'''\n",
    "\n",
    "    # 2. 한 줄로 모든 원소를 입력받아 행렬 만들기\n",
    "'''\n",
    "elements = list(map(int, input().split()))\n",
    "matrix_np = np.array(elements).reshape(rows, cols)\n",
    "'''\n",
    "\n",
    "# 행렬의 크기 N,M 받기\n",
    "N, M = map(int, input().split(' '))\n",
    "# 방법1로 A,B 행렬 2개 생성\n",
    "    # matrix A 생성\n",
    "Amatrix = []\n",
    "for i in range(N):\n",
    "    Arow = list(map(int, input().split()))\n",
    "    Amatrix.append(Arow)\n",
    "A = np.array(Amatrix)\n",
    "\n",
    "Bmatrix = []\n",
    "for i in range(N):\n",
    "    Brow = list(map(int, input().split()))\n",
    "    Bmatrix.append(Brow)\n",
    "B = np.array(Bmatrix)\n",
    "\n",
    "# numpy 배열 내의 원소들을 공백구분으로 출력하는 방법\n",
    "for row in A+B: # 행렬의 row를 리스트로 가져옴\n",
    "    print(*row) # 리스트 내의 원소들이 공백으로 구분되어 출력됨"
   ]
  },
  {
   "cell_type": "code",
   "execution_count": null,
   "metadata": {},
   "outputs": [
    {
     "name": "stdout",
     "output_type": "stream",
     "text": [
      "4 4 4\n",
      "6 6 6\n",
      "5 6 100\n"
     ]
    }
   ],
   "source": [
    "# 백준에서는 numpy를 허용하지 않기에 출력값 중심으로 풀이 --> zip function 활용\n",
    "\n",
    "N, M = map(int, input().split(' '))\n",
    "\n",
    "Amatrix = []\n",
    "for i in range(N):\n",
    "    Arow = list(map(int, input().split()))\n",
    "    Amatrix.append(Arow)\n",
    "\n",
    "Bmatrix = []\n",
    "for i in range(N):\n",
    "    Brow = list(map(int, input().split()))\n",
    "    Bmatrix.append(Brow)\n",
    "\n",
    "# zip function 활용하여 행렬덧셈\n",
    "result = [[a + b for a, b in zip(row1, row2)] for row1, row2 in zip(Amatrix, Bmatrix)]\n",
    "# 공백기준의 구분으로 행렬 내 원소 출력\n",
    "for row in result:\n",
    "    print(*row)"
   ]
  },
  {
   "cell_type": "code",
   "execution_count": null,
   "metadata": {},
   "outputs": [
    {
     "name": "stdout",
     "output_type": "stream",
     "text": [
      "[[8, 10, 12], [14, 16, 18]]\n"
     ]
    }
   ],
   "source": []
  },
  {
   "cell_type": "code",
   "execution_count": 40,
   "metadata": {},
   "outputs": [
    {
     "name": "stdout",
     "output_type": "stream",
     "text": [
      "4\n",
      "3 3\n"
     ]
    }
   ],
   "source": [
    "## 2566: 최댓값\n",
    "\n",
    "# input값들을 받아 9*9 matrix 생성하기\n",
    "matrix = []\n",
    "for i in range(3):\n",
    "    row = list(map(int, input().split(' ')))\n",
    "    matrix.append(row)\n",
    "\n",
    "# 최댓값 찾기\n",
    "for i in matrix:\n",
    "    max_value = max(i)\n",
    "print(max_value)\n",
    "    \n",
    "# for루프 iteration을 통해 최댓값의 위치 찾기 \n",
    "for row in range(len(matrix)):  # len(matrix)는 행의 개수를 가져옴\n",
    "    for column in range(len(matrix[0])): # matrix의 한 행 내 요소들의 개수 = column의 개수\n",
    "        if matrix[row][column] == max_value:\n",
    "            res_row = row+1\n",
    "            res_col = column+1\n",
    "            break\n",
    "print(f\"{res_row} {res_col}\")\n",
    "            "
   ]
  },
  {
   "cell_type": "code",
   "execution_count": null,
   "metadata": {},
   "outputs": [
    {
     "name": "stdout",
     "output_type": "stream",
     "text": [
      "6\n",
      "3 3\n"
     ]
    }
   ],
   "source": [
    "## 2566: 최댓값\n",
    "\n",
    "# input값들을 받아 9*9 matrix 생성하기\n",
    "matrix = []\n",
    "for i in range(9):\n",
    "    row = list(map(int, input().split(' ')))\n",
    "    matrix.append(row)\n",
    "\n",
    "# 최댓값 찾기 --> 각 행의 최댓값을 찾아 갱신\n",
    "max_value = -1  # 100보다 작은 자연수로 주어짐, 0도 허용되므로 최소값을 설정\n",
    "for row in matrix:\n",
    "    max_value = max(max_value, max(row))  # 행에서 최댓값을 찾아 전체 최댓값을 갱신\n",
    "print(max_value)\n",
    "# for루프 iteration을 통해 최댓값의 위치 찾기 \n",
    "for row in range(len(matrix)):  # len(matrix)는 행의 개수를 가져옴\n",
    "    for column in range(len(matrix[0])): # matrix의 한 행 내 요소들의 개수 = column의 개수\n",
    "        if matrix[row][column] == max_value:\n",
    "            res_row = row+1\n",
    "            res_col = column+1\n",
    "            break\n",
    "print(f\"{res_row} {res_col}\")\n",
    "            "
   ]
  },
  {
   "cell_type": "code",
   "execution_count": 37,
   "metadata": {},
   "outputs": [
    {
     "ename": "TypeError",
     "evalue": "'list' object is not callable",
     "output_type": "error",
     "traceback": [
      "\u001b[1;31m---------------------------------------------------------------------------\u001b[0m",
      "\u001b[1;31mTypeError\u001b[0m                                 Traceback (most recent call last)",
      "Cell \u001b[1;32mIn[37], line 16\u001b[0m\n\u001b[0;32m     14\u001b[0m matrix \u001b[38;5;241m=\u001b[39m []\n\u001b[0;32m     15\u001b[0m \u001b[38;5;28;01mfor\u001b[39;00m i \u001b[38;5;129;01min\u001b[39;00m lists:\n\u001b[1;32m---> 16\u001b[0m     row \u001b[38;5;241m=\u001b[39m \u001b[38;5;28mlist\u001b[39m(i \u001b[38;5;241m+\u001b[39m \u001b[38;5;124m'\u001b[39m\u001b[38;5;124m_\u001b[39m\u001b[38;5;124m'\u001b[39m\u001b[38;5;241m*\u001b[39m(\u001b[38;5;28mmax\u001b[39m \u001b[38;5;241m-\u001b[39m \u001b[38;5;28mlen\u001b[39m(i)))\n\u001b[0;32m     17\u001b[0m     matrix\u001b[38;5;241m.\u001b[39mappend(row)\n\u001b[0;32m     18\u001b[0m \u001b[38;5;28mprint\u001b[39m(matrix)\n",
      "\u001b[1;31mTypeError\u001b[0m: 'list' object is not callable"
     ]
    }
   ],
   "source": [
    "## 10798: 세로읽기  * 각 행이 동일한 개수의 원소를 지니고 있지 않을 수 있음음\n",
    "\n",
    "# 5줄의 입력을 받는다\n",
    "lists = []\n",
    "for i in range(5):\n",
    "    var = input()\n",
    "    lists.append(var)\n",
    "\n",
    "# 가장 개수가 많은 입력을 기준으로 다른 입력들의 모자란 문자개수만큼 _을 추가 + matrix형태로 저장장\n",
    "max = 0\n",
    "for i in lists:\n",
    "    if len(i) > max:\n",
    "        max = len(i)\n",
    "matrix = []\n",
    "for i in lists:\n",
    "    row = list(i + '_'*(max - len(i)))\n",
    "    matrix.append(row)\n",
    "print(matrix)\n",
    "\n",
    "# ZIP()을 활용해 matrix를 transpose시킨 다음 행 순서대로 출력한 원소들을 새로운 변수에 저장\n",
    "transposed = [list(row) for row in zip(*matrix)]    # *matrix unpacks the matrix so each row is passed into the zip function. Then each row's elements corresponding in order of each other gets tied by the list function. And lastly they are covered by [] becoming a matrix\n",
    "print(*matrix)\n",
    "result=[]\n",
    "for row in m:\n",
    "    for element in row:\n",
    "        result.append(element)\n",
    "\n",
    "# 해당 변수의 _를 strip한다.\n",
    "cleaned_list = [item for item in result if item != \"_\"]\n",
    "print(cleaned_list)\n",
    "for row in cleaned_list:\n",
    "    print(row,end='')\n"
   ]
  },
  {
   "cell_type": "code",
   "execution_count": null,
   "metadata": {},
   "outputs": [
    {
     "name": "stdout",
     "output_type": "stream",
     "text": [
      "[1, 1, 5, 1, 2, 3, 4, 1, 1, 2, 3, 4, 5]\n",
      "[1, 1, 5, 1, 2, 3, 4, 1, 1, 2, 3, 4, 5]\n",
      "1\n",
      "1\n",
      "5\n",
      "1\n",
      "2\n",
      "3\n",
      "4\n",
      "1\n",
      "1\n",
      "2\n",
      "3\n",
      "4\n",
      "5\n"
     ]
    }
   ],
   "source": [
    "result = []\n",
    "m = [[1],[1,5],[1,2,3,4],[_],[1,2,3,4,5]]\n",
    "for row in m:\n",
    "    for element in row:\n",
    "        result.append(element)\n",
    "print(result)\n",
    "cleaned_list = [item for item in result if item != \"_\"]\n",
    "print(cleaned_list)\n",
    "for row in cleaned_list:\n",
    "    print(row,end='')"
   ]
  },
  {
   "cell_type": "code",
   "execution_count": null,
   "metadata": {},
   "outputs": [],
   "source": []
  }
 ],
 "metadata": {
  "kernelspec": {
   "display_name": "base",
   "language": "python",
   "name": "python3"
  },
  "language_info": {
   "codemirror_mode": {
    "name": "ipython",
    "version": 3
   },
   "file_extension": ".py",
   "mimetype": "text/x-python",
   "name": "python",
   "nbconvert_exporter": "python",
   "pygments_lexer": "ipython3",
   "version": "3.11.7"
  }
 },
 "nbformat": 4,
 "nbformat_minor": 2
}
