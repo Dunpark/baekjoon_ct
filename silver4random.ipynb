{
 "cells": [
  {
   "cell_type": "code",
   "execution_count": null,
   "id": "cbdd5ac7",
   "metadata": {},
   "outputs": [
    {
     "name": "stdout",
     "output_type": "stream",
     "text": [
      "1.0\n",
      "5.0\n",
      "67863915.0\n"
     ]
    }
   ],
   "source": [
    "### 1010 - 다리 놓기\n",
    "\n",
    "## 코드 plan\n",
    "'''\n",
    "- 문제이해: \n",
    "    - 일대일 대응관계인 두 집합에 대해 모든 각각의 모든 요소를 잇는 경우의 수 구하기\n",
    "    - 두 집합 내 요소의 개수는 가변적임\n",
    "- 조건과 해결책:\n",
    "    - 나올 수 있는 모든 경우의수: 수가 더 많은 집합에서 다른 집합의 요소 개수만큼 요소 고르기\n",
    "        ==> (왼쪽집합 요소 개수)C(오른쪽 집합 요소 개수)\n",
    "    - ex) 5C2 = 5*4/2*1 \n",
    "'''\n",
    "\n",
    "## 코드 구현\n",
    "T = int(input())\n",
    "for i in range(T):\n",
    "    N, M = map(int, input().split(' '))\n",
    "    dividend = 1\n",
    "    for j in range((M-N+1), M+1):\n",
    "        dividend *= j\n",
    "    divisor = 1\n",
    "    for k in range(1, N+1): # 5C2의 경우 1,2\n",
    "        divisor *= k\n",
    "    print((int(dividend/divisor)))"
   ]
  },
  {
   "cell_type": "code",
   "execution_count": null,
   "id": "321d712e",
   "metadata": {},
   "outputs": [
    {
     "ename": "OverflowError",
     "evalue": "integer division result too large for a float",
     "output_type": "error",
     "traceback": [
      "\u001b[1;31m---------------------------------------------------------------------------\u001b[0m",
      "\u001b[1;31mOverflowError\u001b[0m                             Traceback (most recent call last)",
      "Cell \u001b[1;32mIn[15], line 8\u001b[0m\n\u001b[0;32m      6\u001b[0m \u001b[38;5;28;01mfor\u001b[39;00m i \u001b[38;5;129;01min\u001b[39;00m \u001b[38;5;28mrange\u001b[39m(\u001b[38;5;241m1\u001b[39m, N\u001b[38;5;241m+\u001b[39m\u001b[38;5;241m1\u001b[39m): \u001b[38;5;66;03m# 5C2의 경우 1,2\u001b[39;00m\n\u001b[0;32m      7\u001b[0m     divisor \u001b[38;5;241m*\u001b[39m\u001b[38;5;241m=\u001b[39m i\n\u001b[1;32m----> 8\u001b[0m (dividend\u001b[38;5;241m/\u001b[39mdivisor)\n",
      "\u001b[1;31mOverflowError\u001b[0m: integer division result too large for a float"
     ]
    }
   ],
   "source": [
    "### 1094 - 막대기\n",
    "\n",
    "## 코드 plan\n",
    "'''\n",
    "- 문제이해: ex) X = 23\n",
    "\n",
    "1단계: 자르기 과정\n",
    "처음: [64]\n",
    "자름 → [32, 32]\n",
    "자름 → [16, 16, 32]\n",
    "자름 → [8, 8, 16, 32]\n",
    "자름 → [4, 4, 8, 16, 32]\n",
    "자름 → [2, 2, 4, 8, 16, 32]\n",
    "자름 → [1, 1, 2, 4, 8, 16, 32]\n",
    "\n",
    "2단계: 필요한 조각 고르기\n",
    "23 = 16 + 4 + 2 + 1\n",
    "→ 선택된 막대들: [16, 4, 2, 1]\n",
    "→ 총 막대 개수: 4\n",
    "\n",
    "핵심적인 아이디어:\n",
    "주어진 절차를 코드로 옮기기보다는 이진수(binary)의 개념을 활용\n",
    "--> 64는 2^6이므로 이진수로 표현하기에 적절\n",
    "막대를 자를 수 있는 최소 단위는 1cm\n",
    "X를 이진수로 표현했을 때 1의 개수가 필요한 막대의 개수와 같음\n",
    "ex) X = 23 --> 23의 이진수는 10111 --> 1이 4개 --> 막대 4개 필요\n",
    "    왜 23의 이진수 10111?\n",
    "        1. 23/2 = 11 나머지 1\n",
    "        2. 11/2 = 5 나머지 1\n",
    "        3. 5/2 = 2 나머지 1\n",
    "        4. 2/2 = 1 나머지 0\n",
    "        5. 1/2 = 0 나머지 1 <- 끝\n",
    "\n",
    "'''\n",
    "\n",
    "## 코드구현\n",
    "\n",
    "def count_sticks(X):\n",
    "    return bin(X).count('1')\n",
    "\n",
    "# 예시 입력\n",
    "X = int(input())\n",
    "print(count_sticks(X))\n"
   ]
  },
  {
   "cell_type": "code",
   "execution_count": 2,
   "id": "8d0b14bf",
   "metadata": {},
   "outputs": [
    {
     "data": {
      "text/plain": [
       "2.5"
      ]
     },
     "execution_count": 2,
     "metadata": {},
     "output_type": "execute_result"
    }
   ],
   "source": [
    "# Test Code\n",
    "5/2"
   ]
  }
 ],
 "metadata": {
  "kernelspec": {
   "display_name": "base",
   "language": "python",
   "name": "python3"
  },
  "language_info": {
   "codemirror_mode": {
    "name": "ipython",
    "version": 3
   },
   "file_extension": ".py",
   "mimetype": "text/x-python",
   "name": "python",
   "nbconvert_exporter": "python",
   "pygments_lexer": "ipython3",
   "version": "3.11.7"
  }
 },
 "nbformat": 4,
 "nbformat_minor": 5
}
