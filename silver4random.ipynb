{
 "cells": [
  {
   "cell_type": "code",
   "execution_count": null,
   "id": "cbdd5ac7",
   "metadata": {},
   "outputs": [
    {
     "name": "stdout",
     "output_type": "stream",
     "text": [
      "1.0\n",
      "5.0\n",
      "67863915.0\n"
     ]
    }
   ],
   "source": [
    "### 1010 - 다리 놓기\n",
    "\n",
    "## 코드 plan\n",
    "'''\n",
    "- 문제이해: \n",
    "    - 일대일 대응관계인 두 집합에 대해 모든 각각의 모든 요소를 잇는 경우의 수 구하기\n",
    "    - 두 집합 내 요소의 개수는 가변적임\n",
    "- 조건과 해결책:\n",
    "    - 나올 수 있는 모든 경우의수: 수가 더 많은 집합에서 다른 집합의 요소 개수만큼 요소 고르기\n",
    "        ==> (왼쪽집합 요소 개수)C(오른쪽 집합 요소 개수)\n",
    "    - ex) 5C2 = 5*4/2*1 \n",
    "'''\n",
    "\n",
    "## 코드 구현\n",
    "T = int(input())\n",
    "for i in range(T):\n",
    "    N, M = map(int, input().split(' '))\n",
    "    dividend = 1\n",
    "    for j in range((M-N+1), M+1):\n",
    "        dividend *= j\n",
    "    divisor = 1\n",
    "    for k in range(1, N+1): # 5C2의 경우 1,2\n",
    "        divisor *= k\n",
    "    print((int(dividend/divisor)))"
   ]
  },
  {
   "cell_type": "code",
   "execution_count": null,
   "id": "321d712e",
   "metadata": {},
   "outputs": [
    {
     "ename": "OverflowError",
     "evalue": "integer division result too large for a float",
     "output_type": "error",
     "traceback": [
      "\u001b[1;31m---------------------------------------------------------------------------\u001b[0m",
      "\u001b[1;31mOverflowError\u001b[0m                             Traceback (most recent call last)",
      "Cell \u001b[1;32mIn[15], line 8\u001b[0m\n\u001b[0;32m      6\u001b[0m \u001b[38;5;28;01mfor\u001b[39;00m i \u001b[38;5;129;01min\u001b[39;00m \u001b[38;5;28mrange\u001b[39m(\u001b[38;5;241m1\u001b[39m, N\u001b[38;5;241m+\u001b[39m\u001b[38;5;241m1\u001b[39m): \u001b[38;5;66;03m# 5C2의 경우 1,2\u001b[39;00m\n\u001b[0;32m      7\u001b[0m     divisor \u001b[38;5;241m*\u001b[39m\u001b[38;5;241m=\u001b[39m i\n\u001b[1;32m----> 8\u001b[0m (dividend\u001b[38;5;241m/\u001b[39mdivisor)\n",
      "\u001b[1;31mOverflowError\u001b[0m: integer division result too large for a float"
     ]
    }
   ],
   "source": [
    "### 1094 - 막대기\n",
    "\n",
    "## 코드 plan\n",
    "'''\n",
    "- 문제이해: ex) X = 23\n",
    "    - 64 > 23\n",
    "        - 64를 절반으로 자름 --> (32,32) 남음\n",
    "        - 자른 막대의 절반 중 하나를 버림 --> (32 16) 남음\n",
    "    - 58 > 23\n",
    "        - 16를 절반으로 자름 --> (29,29) 남음\n",
    "        - 자른 막대의 절반 중 하나를 버림 --> (29 14.5) 남음\n",
    "    == 반복\n",
    "'''\n",
    "\n",
    "## 코드구현\n",
    "X = int(input())\n",
    "initial = 64\n",
    "count = 0\n",
    "while N != X:\n",
    "    next = (initial / 2 + initial/4)\n",
    "    count +=1\n",
    "print(count)"
   ]
  },
  {
   "cell_type": "code",
   "execution_count": null,
   "id": "8d0b14bf",
   "metadata": {},
   "outputs": [
    {
     "name": "stdout",
     "output_type": "stream",
     "text": [
      "422590010274432000\n",
      "6227020800\n",
      "67863915.0\n"
     ]
    }
   ],
   "source": [
    "# Test Code"
   ]
  }
 ],
 "metadata": {
  "kernelspec": {
   "display_name": "base",
   "language": "python",
   "name": "python3"
  },
  "language_info": {
   "codemirror_mode": {
    "name": "ipython",
    "version": 3
   },
   "file_extension": ".py",
   "mimetype": "text/x-python",
   "name": "python",
   "nbconvert_exporter": "python",
   "pygments_lexer": "ipython3",
   "version": "3.11.7"
  }
 },
 "nbformat": 4,
 "nbformat_minor": 5
}
