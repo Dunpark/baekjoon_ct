{
 "cells": [
  {
   "cell_type": "code",
   "execution_count": null,
   "id": "968bbdd9",
   "metadata": {},
   "outputs": [],
   "source": [
    "## 24262 - 알고리즘 수업: 알고리즘의 수행시간1\n",
    "\n",
    "\n",
    "## 코드plan\n",
    "'''\n",
    "def MenOfPassion(A, n): \n",
    "    i = [n / 2]\n",
    "    return A[i]; # 코드1\n",
    "# 입력 크기와 무관하게 한번 배열에 인덱스로 접근해 값을 출력하기 때문에 o(1), 즉 상수 시간복잡도를 가짐\n",
    "n = int(input())\n",
    "    # O(1): 입력 크기와 상관없이 항상 같은 시간이 걸림\n",
    "        # O(1): 한번에 해결\n",
    "        # O(n): 데이터 크기만큼 반복\n",
    "        # O(N**@=2): 중첩 반복\n",
    "'''\n",
    "\n",
    "## 코드구현\n",
    "print(1) # 수행횟수\n",
    "print(0) # 수행차수"
   ]
  },
  {
   "cell_type": "code",
   "execution_count": null,
   "id": "e5706da2",
   "metadata": {},
   "outputs": [
    {
     "name": "stdout",
     "output_type": "stream",
     "text": [
      "1\n"
     ]
    }
   ],
   "source": [
    "## 24263 - 알고리즘 수업: 알고리즘의 수행시간q\n",
    "\n",
    "## 코드plan\n",
    "'''\n",
    "# 반복횟수에 따라 수행시간이 정해진다면 \n",
    "MenOfPassion(A[], n) {\n",
    "    sum <- 0;\n",
    "    for i <- 1 to n\n",
    "        sum <- sum + A[i]; # 코드1\n",
    "    return sum;\n",
    "}\n",
    "의 경우 -1 to n이면 입력과 같은 횟수만큼 반복 = 상수항\n",
    "'''\n",
    "\n",
    "n = int(input())\n",
    "print(n)\n",
    "print(1)"
   ]
  },
  {
   "cell_type": "code",
   "execution_count": 2,
   "id": "bf7dfde8",
   "metadata": {},
   "outputs": [
    {
     "name": "stdout",
     "output_type": "stream",
     "text": [
      "4\n",
      "2\n"
     ]
    }
   ],
   "source": [
    "### 24264 알고리즘 수업: 알고리즘의 수행시간3\n",
    "\n",
    "# 코드plan\n",
    "''' \n",
    "# n번의 횟수를 도는 for루프가 2개 있으므로 총 입력**2만큼 수행힛수를 거치며 그만큼의 수행시간을 가짐\n",
    "# 다항식으로 나타내면 결국 n*2만큼 실행되므로 2를 최고차항으로 갖게 됨\n",
    "'''\n",
    "\n",
    "# 코드구현\n",
    "n = int(input())\n",
    "print(n**2)\n",
    "print(2)"
   ]
  },
  {
   "cell_type": "code",
   "execution_count": 8,
   "id": "6031bd03",
   "metadata": {},
   "outputs": [
    {
     "name": "stdout",
     "output_type": "stream",
     "text": [
      "21\n",
      "2\n"
     ]
    }
   ],
   "source": [
    "### 24265 알고리즘 수업: 알고리즘의 수행시간4\n",
    "\n",
    "## 코드plan\n",
    "'''\n",
    "몇번 시행되는가:\n",
    "outside for루프: 0~n-1 --> n-1번\n",
    "inside: i+1~n --> i의 크기에 따라 달림\n",
    "1) i = 1 --> j = 6\n",
    "2) i = 2 --> j = 5\n",
    "3) i = 3 --> j = 4\n",
    "4) i = 4 --> j = 3\n",
    "5) i = 5 --> j = 2 \n",
    "6) i = 6 --> j = 1\n",
    "총 시행횟수 = 6+5+4+3+2+1 = 21\n",
    "'''\n",
    "\n",
    "## 코드구현\n",
    "n = int(input())\n",
    "sum = 0\n",
    "for i in range(1,n):\n",
    "    sum += i\n",
    "print(sum)\n",
    "print(2)    # since 2 loops are made\n",
    "\n"
   ]
  },
  {
   "cell_type": "code",
   "execution_count": 11,
   "id": "bbee6542",
   "metadata": {},
   "outputs": [
    {
     "name": "stdout",
     "output_type": "stream",
     "text": [
      "343\n",
      "3\n"
     ]
    }
   ],
   "source": [
    "### 알고리즘 수업 - 알고리즘의 수행시간 5\n",
    "\n",
    "## 코드plan\n",
    "'''\n",
    "시행횟수:\n",
    "1) 1 to n\n",
    "2) 1 to n\n",
    "3) 1 to n\n",
    "--> n**3만큼 시행됨\n",
    "'''\n",
    "\n",
    "## 코드구현\n",
    "n = int(input())\n",
    "print(n**3)\n",
    "print(3)"
   ]
  },
  {
   "cell_type": "code",
   "execution_count": 11,
   "id": "7b363472",
   "metadata": {},
   "outputs": [
    {
     "name": "stdout",
     "output_type": "stream",
     "text": [
      "35\n",
      "3\n"
     ]
    }
   ],
   "source": [
    "## 알고리즘 수업 - 알고리즘의 수행시간 6\n",
    "\n",
    "## 코드 plan\n",
    "'''\n",
    "시행횟수:\n",
    "1) i는 1 to n-2 => n-2번\n",
    "2) j는 i에 따라 달림\n",
    "    i = 1 --> j는 2 to n-1 => n-2\n",
    "    i = 2 --> j는 3 to n-1 => n-3\n",
    "    ...\n",
    "    i = n-2 --> j는 n-1 to n-1 => 1번\n",
    "    ==> 총 n-2 + n-3 + ... 1\n",
    "3) k는 i 와 j에 따라 달림\n",
    "    i = 1\n",
    "      --> j = 2 --> k = 3 to n => n-2\n",
    "      --> j = 3 --> k = 4 to n => n-3\n",
    "      ...\n",
    "      --> j = n-1 --> k = n to n => 1\n",
    "      ==> 총 n-2 + n-3 + ... + 1\n",
    "    i = 2\n",
    "      --> j = 3 --> k = 4 to n => n-3\n",
    "      --> j = 4 --> k = 5 to n => n-4\n",
    "      ...\n",
    "      --> j = n-1 --> k = 6 to n => 1\n",
    "      ==> 총 n-3번 + n-4 .. + 1\n",
    "    ...\n",
    "    i = n-2\n",
    "        --> j = n-1 --> k = n to n => 1\n",
    "    ==> (n-2~1) + (n-3 ~ 1) + .... + (1)\n",
    "루프에 따른 반복횟수(입력=7이라고 가정)\n",
    "--> 결국 i와 j의 영향에 따라 최종적으로 나오는 k의 모든 횟수\n",
    "==> 5+4+3+2+1 + 4+3+2+1 + 3+2+1 + 2+1 + 1 = 35\n",
    "    수식화: (n-1)(n-2)/2 + (n-2)(n-3)/2 + .. 뒤에 곱해지는 수가 0이 될때까지\n",
    "        *항의 개수 = n-2, n-3 ... 0 --> 2 ~ n까지\n",
    "최고차수:\n",
    "for루프가 3개 있으므로 **3\n",
    "'''\n",
    "\n",
    "## 코드구현 - fail\n",
    "'''\n",
    "n = int(input())\n",
    "if n < 3:\n",
    "    print(0)\n",
    "    print(3)    #일반화과정이므로 고정\n",
    "else:\n",
    "    acc = 0\n",
    "    subtractor = 1\n",
    "    for i in range(2, n+1):\n",
    "        acc += (n-(i-1))*(n-i)/2 # 괄호간 곱하기 주의의\n",
    "print(int(acc))\n",
    "print(3)\n",
    "'''\n",
    "\n",
    "### GPT's Ans\n",
    "\n",
    "## 코드구현\n",
    "n = int(input())\n",
    "# 수행 횟수 계산 \n",
    "    # i < j < k를 만족하는 모든 (i,j,k) 조합을 세는 것과 동일\n",
    "    # => n개중 3개를 고르는 경우의 수와 동일함 \n",
    "count = n * (n - 1) * (n - 2) // 6 # 자동으로 n이 1일 때와 2일떄 0이 됨\n",
    "print(count)\n",
    "print(3)  # 최고차항 차수는 3\n",
    "\n"
   ]
  },
  {
   "cell_type": "code",
   "execution_count": 13,
   "id": "2f1e11f5",
   "metadata": {},
   "outputs": [
    {
     "name": "stdout",
     "output_type": "stream",
     "text": [
      "0\n"
     ]
    }
   ],
   "source": [
    "### 24313 - 알고리즘 수업 - 점근적 표기 1\n",
    "\n",
    "## 코드구현 *범위확인! *문제이해\n",
    "# 수식요소들에 따라 input 정의\n",
    "a1, a0 = map(int, input().split(' '))\n",
    "c = int(input())\n",
    "n0 = int(input())\n",
    "n = n0\n",
    "fn = a1*n + a0\n",
    "# 방향, 증감정도, 시작점을 확인하면 됨\n",
    "if c >= a1:\n",
    "    if c*n0 >= fn:\n",
    "        print(1)\n",
    "    else:\n",
    "        print(0)\n",
    "else:\n",
    "    print(0)\n",
    "        \n",
    "\n",
    "\n",
    "\n",
    "\n",
    "    \n"
   ]
  },
  {
   "cell_type": "code",
   "execution_count": null,
   "id": "132390fa",
   "metadata": {},
   "outputs": [],
   "source": [
    "while n<4:\n",
    "    n +=1"
   ]
  }
 ],
 "metadata": {
  "kernelspec": {
   "display_name": "base",
   "language": "python",
   "name": "python3"
  },
  "language_info": {
   "codemirror_mode": {
    "name": "ipython",
    "version": 3
   },
   "file_extension": ".py",
   "mimetype": "text/x-python",
   "name": "python",
   "nbconvert_exporter": "python",
   "pygments_lexer": "ipython3",
   "version": "3.11.7"
  }
 },
 "nbformat": 4,
 "nbformat_minor": 5
}
