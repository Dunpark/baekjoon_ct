{
 "cells": [
  {
   "cell_type": "code",
   "execution_count": 7,
   "metadata": {},
   "outputs": [
    {
     "name": "stdout",
     "output_type": "stream",
     "text": [
      "3 * 1 = 3\n",
      "3 * 2 = 6\n",
      "3 * 3 = 9\n",
      "3 * 4 = 12\n",
      "3 * 5 = 15\n",
      "3 * 6 = 18\n",
      "3 * 7 = 21\n",
      "3 * 8 = 24\n",
      "3 * 9 = 27\n"
     ]
    }
   ],
   "source": [
    "# 2739\n",
    "'''\n",
    "문제\n",
    "N을 입력받은 뒤, 구구단 N단을 출력하는 프로그램을 작성하시오. 출력 형식에 맞춰서 출력하면 된다.\n",
    "\n",
    "입력\n",
    "첫째 줄에 N이 주어진다. N은 1보다 크거나 같고, 9보다 작거나 같다.\n",
    "\n",
    "출력\n",
    "출력형식과 같게 N*1부터 N*9까지 출력한다.\n",
    "'''\n",
    "N = int(input())\n",
    "for i in range(1,10):\n",
    "    num = N * i\n",
    "    print(f'{N} * {i} = {num}')"
   ]
  },
  {
   "cell_type": "code",
   "execution_count": 12,
   "metadata": {},
   "outputs": [
    {
     "name": "stdout",
     "output_type": "stream",
     "text": [
      "3\n",
      "5\n",
      "5\n",
      "4\n"
     ]
    }
   ],
   "source": [
    "# 10950\n",
    "'''\n",
    "문제\n",
    "두 정수 A와 B를 입력받은 다음, A+B를 출력하는 프로그램을 작성하시오.\n",
    "\n",
    "입력\n",
    "첫째 줄에 테스트 케이스의 개수 T가 주어진다.\n",
    "\n",
    "각 테스트 케이스는 한 줄로 이루어져 있으며, 각 줄에 A와 B가 주어진다. (0 < A, B < 10)\n",
    " \n",
    "출력\n",
    "각 테스트 케이스마다 A+B를 출력한다.\n",
    "'''\n",
    "test_case = int(input())\n",
    "for i in range(test_case):\n",
    "    A, B = map(int, input().split())  # This will take two integers in each line\n",
    "    print(A + B)"
   ]
  },
  {
   "cell_type": "code",
   "execution_count": 35,
   "metadata": {},
   "outputs": [
    {
     "name": "stdout",
     "output_type": "stream",
     "text": [
      "6\n"
     ]
    }
   ],
   "source": [
    "# 8393\n",
    "'''\n",
    "문제\n",
    "n이 주어졌을 때, 1부터 n까지 합을 구하는 프로그램을 작성하시오.\n",
    "\n",
    "입력\n",
    "첫째 줄에 n (1 ≤ n ≤ 10,000)이 주어진다.\n",
    "\n",
    "출력\n",
    "1부터 n까지 합을 출력한다.\n",
    "\n",
    "'''\n",
    "N=0\n",
    "n = int(input())\n",
    "for i in range(1,n+1):\n",
    "    N += i # N이 사전에 지정이 되어 있어야 연산자 활용가능\n",
    "print(N)\n"
   ]
  },
  {
   "cell_type": "code",
   "execution_count": 37,
   "metadata": {},
   "outputs": [
    {
     "name": "stdout",
     "output_type": "stream",
     "text": [
      "No\n"
     ]
    }
   ],
   "source": [
    "#25304\n",
    "'''\n",
    "문제\n",
    "준원이는 저번 주에 살면서 처음으로 코스트코를 가 봤다. 정말 멋졌다. 그런데, 몇 개 담지도 않았는데 수상하게 높은 금액이 나오는 것이다! 준원이는 영수증을 보면서 정확하게 계산된 것이 맞는지 확인해보려 한다.\n",
    "영수증에 적힌,\n",
    "구매한 각 물건의 가격과 개수\n",
    "구매한 물건들의 총 금액\n",
    "을 보고, 구매한 물건의 가격과 개수로 계산한 총 금액이 영수증에 적힌 총 금액과 일치하는지 검사해보자.\n",
    "입력\n",
    "첫째 줄에는 영수증에 적힌 총 금액 \n",
    "$X$가 주어진다.\n",
    "둘째 줄에는 영수증에 적힌 구매한 물건의 종류의 수 \n",
    "$N$이 주어진다.\n",
    "이후 \n",
    "$N$개의 줄에는 각 물건의 가격 \n",
    "$a$와 개수 \n",
    "$b$가 공백을 사이에 두고 주어진다.\n",
    "출력\n",
    "구매한 물건의 가격과 개수로 계산한 총 금액이 영수증에 적힌 총 금액과 일치하면 Yes를 출력한다. 일치하지 않는다면 No를 출력한다.\n",
    "'''\n",
    "total = int(input())\n",
    "types = int(input())\n",
    "pred=0\n",
    "for i in range(0, types):\n",
    "    value, num = map(int, input().split())\n",
    "    pred += value*num\n",
    "if total == pred:\n",
    "    print('Yes')\n",
    "else:\n",
    "    print('No')"
   ]
  },
  {
   "cell_type": "code",
   "execution_count": 50,
   "metadata": {},
   "outputs": [
    {
     "name": "stdout",
     "output_type": "stream",
     "text": [
      "long long long long long int\n"
     ]
    }
   ],
   "source": [
    "#24314\n",
    "string = ''\n",
    "N = int(input())\n",
    "num = N // 4\n",
    "for i in range(0,num):\n",
    "    string += 'long '\n",
    "print(f'{string}int')"
   ]
  },
  {
   "cell_type": "code",
   "execution_count": 1,
   "metadata": {},
   "outputs": [],
   "source": [
    "#15552 - jupyter lab에서는 standard input redirection이 불가능 \n",
    "# *input() built-in function을 함부로 바꿀 수 없음\n",
    "### Pass"
   ]
  },
  {
   "cell_type": "code",
   "execution_count": null,
   "metadata": {},
   "outputs": [
    {
     "name": "stdout",
     "output_type": "stream",
     "text": [
      "Case #1: 5\n",
      "Case #2: 7\n"
     ]
    }
   ],
   "source": [
    "#11021\n",
    "test_case = int(input())\n",
    "for i in range(1,test_case+1):\n",
    "    A, B = map(int, input().split())  # This will take two integers in each line\n",
    "    print(f'Case #{i}: {A + B}')"
   ]
  },
  {
   "cell_type": "code",
   "execution_count": 2,
   "metadata": {},
   "outputs": [
    {
     "name": "stdout",
     "output_type": "stream",
     "text": [
      "Case #1: 1 + 1 = 2\n",
      "Case #2: 2 + 3 = 5\n"
     ]
    }
   ],
   "source": [
    "#11022\n",
    "#11021\n",
    "test_case = int(input())\n",
    "for i in range(1,test_case+1):\n",
    "    A, B = map(int, input().split())  # This will take two integers in each line\n",
    "    print(f'Case #{i}: {A} + {B} = {A+B}')"
   ]
  },
  {
   "cell_type": "code",
   "execution_count": 10,
   "metadata": {},
   "outputs": [
    {
     "name": "stdout",
     "output_type": "stream",
     "text": [
      "*\n",
      "**\n",
      "***\n"
     ]
    }
   ],
   "source": [
    "star = ''\n",
    "test_case = int(input())\n",
    "for i in range(0,test_case):\n",
    "    star += '*'\n",
    "    print(star)"
   ]
  },
  {
   "cell_type": "code",
   "execution_count": null,
   "metadata": {},
   "outputs": [
    {
     "name": "stdout",
     "output_type": "stream",
     "text": [
      "    *\n",
      "   **\n",
      "  ***\n",
      " ****\n",
      "*****\n"
     ]
    }
   ],
   "source": [
    "#2439\n",
    "star = ''\n",
    "N = int(input())\n",
    "for i in range(0,N):\n",
    "    star += '*'\n",
    "    rstar = star.rjust(N)\n",
    "    print(rstar)"
   ]
  },
  {
   "cell_type": "code",
   "execution_count": 34,
   "metadata": {},
   "outputs": [],
   "source": [
    "#10952\n",
    "A=1\n",
    "B=3\n",
    "while A or B !=0:\n",
    "    A, B = map(int, input().split()) \n",
    "    if A == 0 and B == 0:\n",
    "        pass\n",
    "    else:\n",
    "        print(A+B)    "
   ]
  },
  {
   "cell_type": "code",
   "execution_count": 1,
   "metadata": {},
   "outputs": [],
   "source": [
    "#10951\n",
    "try:\n",
    "    while True: \n",
    "        A, B = map(int, input().split()) \n",
    "        print(A+B)    \n",
    "except EOFError: #파일 끝을 만났을 때의 상태: 파일의 데이터를 읽는 중 더 이상 읽을 내용이 없으면 \"EOF 상태\" --> 해당 코드를 통해 예외처리\n",
    "    pass"
   ]
  },
  {
   "cell_type": "code",
   "execution_count": null,
   "metadata": {},
   "outputs": [],
   "source": []
  }
 ],
 "metadata": {
  "kernelspec": {
   "display_name": "base",
   "language": "python",
   "name": "python3"
  },
  "language_info": {
   "codemirror_mode": {
    "name": "ipython",
    "version": 3
   },
   "file_extension": ".py",
   "mimetype": "text/x-python",
   "name": "python",
   "nbconvert_exporter": "python",
   "pygments_lexer": "ipython3",
   "version": "3.11.7"
  }
 },
 "nbformat": 4,
 "nbformat_minor": 2
}
