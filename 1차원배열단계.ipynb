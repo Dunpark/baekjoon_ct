{
 "cells": [
  {
   "cell_type": "code",
   "execution_count": 6,
   "metadata": {},
   "outputs": [
    {
     "name": "stdout",
     "output_type": "stream",
     "text": [
      "0\n"
     ]
    }
   ],
   "source": [
    "#10807\n",
    "''' # My answer\n",
    "count = int(input())\n",
    "N = []\n",
    "total = 0\n",
    "while len(N) != count:\n",
    "    N += map(int, input().split())\n",
    "v = int(input())\n",
    "for i in N:\n",
    "    if i == v:\n",
    "        total += 1\n",
    "print(total)\n",
    "'''\n",
    "# chatgpt's more simplified version - list(), count() Method\n",
    "count = int(input())\n",
    "N = list(map(int, input().split()))[:count] #list slicing - if the inputs provides more than count numers, only the first count elements are taken\n",
    "v = int(input())\n",
    "print(N.count(v)) # N이 리스트, v가 count하고자 하는 성분\n",
    "\n"
   ]
  },
  {
   "cell_type": "code",
   "execution_count": 11,
   "metadata": {},
   "outputs": [
    {
     "name": "stdout",
     "output_type": "stream",
     "text": [
      "1 4 2 3 "
     ]
    }
   ],
   "source": [
    "#10871\n",
    "result=[]\n",
    "N,X = map(int, input().split())\n",
    "counts = list(map(int, input().split()))\n",
    "for i in counts:\n",
    "    if i < X:\n",
    "        result.append(i)\n",
    "for num in result:\n",
    "    print(num, end=\" \") "
   ]
  },
  {
   "cell_type": "code",
   "execution_count": 16,
   "metadata": {},
   "outputs": [
    {
     "name": "stdout",
     "output_type": "stream",
     "text": [
      "1 5\n"
     ]
    }
   ],
   "source": [
    "#10818\n",
    "N = int(input())\n",
    "counts = list(map(int, input().split(maxsplit=3))) # maxsplist = 입력순으로 3개까지 받음음\n",
    "a = min(counts)\n",
    "b = max(counts)\n",
    "print(f'{a} {b}')"
   ]
  },
  {
   "cell_type": "code",
   "execution_count": 17,
   "metadata": {},
   "outputs": [
    {
     "name": "stdout",
     "output_type": "stream",
     "text": [
      "85\n",
      "8\n"
     ]
    }
   ],
   "source": [
    "#2562\n",
    "numbers = [int(input()) for _ in range(9)]  # 9개의 자연수를 입력받아 리스트로 저장\n",
    "max_value = max(numbers)  # 최댓값 찾기\n",
    "max_index = numbers.index(max_value) + 1  # 0-based index이므로 +1\n",
    "\n",
    "print(max_value)\n",
    "print(max_index)\n",
    "\n"
   ]
  },
  {
   "cell_type": "code",
   "execution_count": null,
   "metadata": {},
   "outputs": [],
   "source": [
    "#10810"
   ]
  }
 ],
 "metadata": {
  "kernelspec": {
   "display_name": "base",
   "language": "python",
   "name": "python3"
  },
  "language_info": {
   "codemirror_mode": {
    "name": "ipython",
    "version": 3
   },
   "file_extension": ".py",
   "mimetype": "text/x-python",
   "name": "python",
   "nbconvert_exporter": "python",
   "pygments_lexer": "ipython3",
   "version": "3.11.7"
  }
 },
 "nbformat": 4,
 "nbformat_minor": 2
}
