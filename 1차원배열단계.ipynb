{
 "cells": [
  {
   "cell_type": "code",
   "execution_count": 6,
   "metadata": {},
   "outputs": [
    {
     "name": "stdout",
     "output_type": "stream",
     "text": [
      "0\n"
     ]
    }
   ],
   "source": [
    "#10807\n",
    "''' # My answer\n",
    "count = int(input())\n",
    "N = []\n",
    "total = 0\n",
    "while len(N) != count:\n",
    "    N += map(int, input().split())\n",
    "v = int(input())\n",
    "for i in N:\n",
    "    if i == v:\n",
    "        total += 1\n",
    "print(total)\n",
    "'''\n",
    "# chatgpt's more simplified version - list(), count() Method\n",
    "count = int(input())\n",
    "N = list(map(int, input().split()))[:count] #list slicing - if the inputs provides more than count numers, only the first count elements are taken\n",
    "v = int(input())\n",
    "print(N.count(v)) # N이 리스트, v가 count하고자 하는 성분\n",
    "\n"
   ]
  },
  {
   "cell_type": "code",
   "execution_count": 11,
   "metadata": {},
   "outputs": [
    {
     "name": "stdout",
     "output_type": "stream",
     "text": [
      "1 4 2 3 "
     ]
    }
   ],
   "source": [
    "#10871\n",
    "result=[]\n",
    "N,X = map(int, input().split())\n",
    "counts = list(map(int, input().split()))\n",
    "for i in counts:\n",
    "    if i < X:\n",
    "        result.append(i)\n",
    "for num in result:\n",
    "    print(num, end=\" \") "
   ]
  },
  {
   "cell_type": "code",
   "execution_count": 16,
   "metadata": {},
   "outputs": [
    {
     "name": "stdout",
     "output_type": "stream",
     "text": [
      "1 5\n"
     ]
    }
   ],
   "source": [
    "#10818\n",
    "N = int(input())\n",
    "counts = list(map(int, input().split(maxsplit=3))) # maxsplist = 입력순으로 3개까지 받음음\n",
    "a = min(counts)\n",
    "b = max(counts)\n",
    "print(f'{a} {b}')"
   ]
  },
  {
   "cell_type": "code",
   "execution_count": 17,
   "metadata": {},
   "outputs": [
    {
     "name": "stdout",
     "output_type": "stream",
     "text": [
      "85\n",
      "8\n"
     ]
    }
   ],
   "source": [
    "#2562\n",
    "numbers = [int(input()) for _ in range(9)]  # 9개의 자연수를 입력받아 리스트로 저장\n",
    "max_value = max(numbers)  # 최댓값 찾기\n",
    "max_index = numbers.index(max_value) + 1  # 0-based index이므로 +1\n",
    "\n",
    "print(max_value)\n",
    "print(max_index)\n",
    "\n"
   ]
  },
  {
   "cell_type": "code",
   "execution_count": 21,
   "metadata": {},
   "outputs": [
    {
     "name": "stdout",
     "output_type": "stream",
     "text": [
      "1 2 1 1 0 "
     ]
    }
   ],
   "source": [
    "#10810\n",
    "N, M = map(int, input().split())\n",
    "list = [0]*(N+1)\n",
    "for m in range(0, M):\n",
    "    i, j, k  = map(int, input().split())\n",
    "    list[i:j+1] = [k]*len(list[i:j+1]) # index 기준: [동일: 입력한 숫자-1]: 끝-1] *시작의 경우 0부터 시작\n",
    "del list[0]\n",
    "for num in list:\n",
    "    print(num, end=\" \") "
   ]
  },
  {
   "cell_type": "code",
   "execution_count": null,
   "metadata": {},
   "outputs": [
    {
     "name": "stdout",
     "output_type": "stream",
     "text": [
      "3 1 4 2 5 "
     ]
    }
   ],
   "source": [
    "#10813\n",
    "N, M = map(int, input().split())\n",
    "result = list(range(0,N+1)) #Making a list with accmulated numbers\n",
    "for i in range(0, M):\n",
    "    j, k  = map(int, input().split())\n",
    "    J = result[j] #자리를 바꾸는 거니까 인덱스끼리 교환!\n",
    "    K = result[k] #동시에 바꾸는 것이기 때문에 기존의 인덱스를 기준으로 change\n",
    "    result[j] = K\n",
    "    result[k] = J\n",
    "del result[0]\n",
    "for num in result:\n",
    "    print(num, end=\" \") \n",
    "# 만약 list를 variable의 이름으로 지정하면 list()기능을 사용할 수 없음"
   ]
  },
  {
   "cell_type": "code",
   "execution_count": 50,
   "metadata": {},
   "outputs": [
    {
     "name": "stdout",
     "output_type": "stream",
     "text": [
      "3 1 4 2 5\n"
     ]
    }
   ],
   "source": [
    "# 108013 - chatgpt optimized\n",
    "N, M = map(int, input().split())\n",
    "result = list(range(1, N+1))  # Start directly from 1 to N (no need for index 0)\n",
    "\n",
    "for _ in range(M):  \n",
    "    j, k = map(int, input().split())\n",
    "    result[j - 1], result[k - 1] = result[k - 1], result[j - 1]  # Swap using tuple unpacking(operates simultaniously) *index starts from zero so -1\n",
    "print(*result)  # Print space-separated values efficiently\n"
   ]
  },
  {
   "cell_type": "code",
   "execution_count": null,
   "metadata": {},
   "outputs": [],
   "source": [
    "#5597\n",
    "stud = list(range(1,31)) # range에서 뒷 숫자는 마지막 순서 +1\n",
    "for i in range(0,28):\n",
    "    num = int(input())\n",
    "    stud[num-1] = 0\n",
    "not_sub = [j for j in stud if j !=0] # gets elements in list if the element is not the value of 0\n",
    "print(min(not_sub))\n",
    "print(max(not_sub))"
   ]
  },
  {
   "cell_type": "code",
   "execution_count": 1,
   "metadata": {},
   "outputs": [
    {
     "data": {
      "text/plain": [
       "{0, 1, 2, 39, 40, 41}"
      ]
     },
     "execution_count": 1,
     "metadata": {},
     "output_type": "execute_result"
    }
   ],
   "source": [
    "#3052\n",
    "results = []\n",
    "for i in range(0,10):\n",
    "    number = int(input())\n",
    "    results.append(number%42)\n",
    "unique= set(results) #set형식으로 바구면 고유값만 남게 됨 -> 고유값 셀 때 유용\n",
    "print(len(results)) #무조건 결과는 print써서 출력"
   ]
  },
  {
   "cell_type": "code",
   "execution_count": 39,
   "metadata": {},
   "outputs": [
    {
     "name": "stdout",
     "output_type": "stream",
     "text": [
      "3 4 1 2 5\n"
     ]
    }
   ],
   "source": [
    "# 10811\n",
    "N, M = map(int, input().split())\n",
    "bags = list(range(1,N+1))\n",
    "for i in range(0,M):\n",
    "    j,k = map(int, input().split())\n",
    "    bags[j-1:k] = bags[j-1:k][::-1] #0부터 시작이니까 k이전의 수는 순서상으로 결국 k번째 수\n",
    "print(*bags)\n",
    "# .reverse()는 in-place 기능으로 본래 variable에 적용됨\n",
    "# reversed()는 새로운 변수를 생성해야 함  =  [::-1] reverse slicing\n",
    "\n",
    "\n"
   ]
  },
  {
   "cell_type": "code",
   "execution_count": null,
   "metadata": {},
   "outputs": [
    {
     "name": "stdout",
     "output_type": "stream",
     "text": [
      "75.0\n"
     ]
    }
   ],
   "source": [
    "# 1546 *백준에서는 np와 같이 외부라이브러리를 사용할 수 없음    *np.mean()으로 list의 평균을 구할 수는 있음\n",
    "import numpy as np\n",
    "adj_result=[]\n",
    "subject_count = int(input())\n",
    "ori_result = list(map(int, input().split()))\n",
    "for i in ori_result:\n",
    "     adj_result.append(i/max(ori_result)*100)\n",
    "average = sum(adj_result)/len(adj_result)\n",
    "print(average)"
   ]
  },
  {
   "cell_type": "code",
   "execution_count": null,
   "metadata": {},
   "outputs": [],
   "source": []
  }
 ],
 "metadata": {
  "kernelspec": {
   "display_name": "base",
   "language": "python",
   "name": "python3"
  },
  "language_info": {
   "codemirror_mode": {
    "name": "ipython",
    "version": 3
   },
   "file_extension": ".py",
   "mimetype": "text/x-python",
   "name": "python",
   "nbconvert_exporter": "python",
   "pygments_lexer": "ipython3",
   "version": "3.11.7"
  }
 },
 "nbformat": 4,
 "nbformat_minor": 2
}
