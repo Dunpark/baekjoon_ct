{
 "cells": [
  {
   "cell_type": "code",
   "execution_count": null,
   "metadata": {},
   "outputs": [],
   "source": [
    "## 2745 진법 변환\n",
    "# 10진법을 넘어가는 진법은 숫자로 표시할 수 없는 자리가 있다. 이런 경우에는 다음과 같이 알파벳 대문자를 사용한다.\n",
    "    # A: 10, B: 11, ..., F: 15, ..., Y: 34, Z: 35\n",
    "    # EX) z가 입력값으로 주어지면 그 자리의 숫자는 35이다."
   ]
  },
  {
   "attachments": {
    "image.png": {
     "image/png": "[encoded data removed]"
    }
   },
   "cell_type": "markdown",
   "metadata": {},
   "source": [
    "**B진법수를 10진법으로 변환하는 방법:** # bold글씨\n",
    "![image.png](attachment:image.png)\n"
   ]
  },
  {
   "cell_type": "code",
   "execution_count": null,
   "metadata": {},
   "outputs": [
    {
     "name": "stdout",
     "output_type": "stream",
     "text": [
      "60466175\n"
     ]
    }
   ],
   "source": [
    "# 파이썬에서는 int(문자열, 진법) 함수를 사용하면 손쉽게 변환할 수 있습니다.\n",
    "N, B = input().split()\n",
    "B = int(B)\n",
    "print(int(N, B))    # B진법을 10진법으로로"
   ]
  },
  {
   "cell_type": "code",
   "execution_count": 57,
   "metadata": {},
   "outputs": [
    {
     "name": "stdout",
     "output_type": "stream",
     "text": [
      "ZZZZZ\n"
     ]
    }
   ],
   "source": [
    "## 11005 진법변환2 - 10진법 -> N진법\n",
    "# 해당 숫자를 B로 나눈후 그 나머지를 기록하고 도출한 몫에 대해 또 B로 나누는 과정을 반복하는 방식 --> 나머지들이 바로 B진법에서의 각 자리에 해당하는 값들임\n",
    "    # 몫이 0 이 될때까지 반복\n",
    "# 각 단계에서의 나머지를 뒤에서부터 기록합니다. 이 과정을 통해 자릿수가 낮은 자리부터 차례로 계산되고, 최종적으로 나머지들을 역순으로 나열하여 B진법 숫자\n",
    "\n",
    "def decimal_to_base(n, b):\n",
    "    # 10진법 숫자 n을 b진법으로 변환\n",
    "    if n == 0:\n",
    "        return \"0\"  # 0은 어떤 진법에서도 0\n",
    "    \n",
    "    digits = \"0123456789ABCDEFGHIJKLMNOPQRSTUVWXYZ\"  # 36진법까지 처리\n",
    "    result = \"\"\n",
    "    \n",
    "    while n > 0:\n",
    "        result = digits[n % b] + result  # 나머지에 해당하는 문자 추가\n",
    "        n //= b  # 몫으로 나누기\n",
    "    \n",
    "    return result\n",
    "\n",
    "# 입력 받기\n",
    "n, b = map(int, input().split())\n",
    "\n",
    "# 결과 출력\n",
    "print(decimal_to_base(n, b))\n",
    "\n"
   ]
  },
  {
   "cell_type": "code",
   "execution_count": 87,
   "metadata": {},
   "outputs": [
    {
     "name": "stdout",
     "output_type": "stream",
     "text": [
      "4 2 0 4\n",
      "1 0 0 0\n",
      "7 1 1 4\n"
     ]
    }
   ],
   "source": [
    "## 2720 - 세탁소 사장 동혁\n",
    "\n",
    "# 각 동전의 값 설정\n",
    "q = 0.25\n",
    "d = 0.1\n",
    "n = 0.05\n",
    "p = 0.01\n",
    "\n",
    "# 동전구분 - 순서를 큰것부터\n",
    "        # 동전의 개수를 총금액이 넘지 않는 선까지로 책정 if구문 안의 for loop\n",
    "def coin_exchange(mon, change, coin):\n",
    "    count = 0\n",
    "    while coin*count <= mon:\n",
    "        count += 1\n",
    "    count -= 1 # mon을 넘으면 멈추는 것이기 때문에 count의 마지막값은 mon을 넘는 경우 동전의 개수일 것이다.\n",
    "    change.append(count)\n",
    "    mon = mon - coin*count\n",
    "    return round(mon,2), change\n",
    "\n",
    "\n",
    "# 테스트 케이스의 개수 input N\n",
    "N = int(input())\n",
    "# for loop을 활용하여 각 입력값에 적용되는 프로세스 생성\n",
    "for i in range(N):\n",
    "    change = []\n",
    "    mon = int(input())*(1/100)  # cent단위를 달러 단위로 바꿔주기   *1달러 = 100센트\n",
    "    mon, change = coin_exchange(mon, change, q)\n",
    "    mon, change = coin_exchange(mon, change, d)\n",
    "    mon, change = coin_exchange(mon, change, n)\n",
    "    mon, change = coin_exchange(mon, change, p)\n",
    "    print(*change)    \n",
    "\n",
    "### 함수 내에서의 변수의 값(local variable)는 함수 외의 변수와 이름이 일치하더라도\n",
    "### 직접 지정하지 않는 한 업데이트되지 않음     *리스트 append는 가능 \n"
   ]
  },
  {
   "cell_type": "code",
   "execution_count": null,
   "metadata": {},
   "outputs": [],
   "source": [
    "## 2930 - 중앙 이동 알고리즘\n",
    "\n",
    "# 수학적 풀이과정 brainstorming\n",
    "'''\n",
    "초기상태: 점4개\n",
    "\n",
    "1번변화: 점9개 = 1 + 8\n",
    "(3+1)*2\n",
    "2번변화: 1 + 8 + 16 = 25\n",
    "(5+3)*2\n",
    "3번변화: 1 + 8 + 16 + 24 +  32 = 57\n",
    "(7+5)*2 + (9+7)*2\n",
    "4번변화: \n",
    "(17+15)*2 + ....\n",
    "\n",
    "1 2 3 4\n",
    "3 5 9 17\n",
    "\n",
    "규칙: \n",
    "1 + 시그마(i)(i-2) (이때 시그마는 3부터 시작해서 *2-1만큼 증가\n",
    "''' "
   ]
  },
  {
   "cell_type": "code",
   "execution_count": null,
   "metadata": {},
   "outputs": [
    {
     "name": "stdout",
     "output_type": "stream",
     "text": [
      "1089\n"
     ]
    }
   ],
   "source": [
    "# 코드로 구현 --> increment와 조건식이 포함되므로 수학적 구조 없이 바로\n",
    "level = int(input())\n",
    "result = 1\n",
    "base = 3\n",
    "if level == 1:\n",
    "    result = 9\n",
    "elif level >= 2: \n",
    "    for i in range(level-1):\n",
    "        base = base+(base-1)\n",
    "    for i in range(3, (base)+1, 2): # ex) level2 -> 1, 3, 5,\n",
    "        result += (i+(i-2))*2\n",
    "print(result)\n",
    "\n",
    "# 최적의 코드\n",
    "N = int(input())\n",
    "print((2**N+1)**2)\n",
    "# --> 한변의 점의 개수는 2,3,5,9,17로커졌고 1,2,4,8만큼 더해진 것임"
   ]
  },
  {
   "cell_type": "code",
   "execution_count": 3,
   "metadata": {},
   "outputs": [
    {
     "name": "stdout",
     "output_type": "stream",
     "text": [
      "5\n"
     ]
    }
   ],
   "source": [
    "## 2292 벌집\n",
    "\n",
    "# 수학적 원리 도출\n",
    "'''\n",
    "점점 큰 도형들이 테두리에 그려지면서 늘어남\n",
    " 1\n",
    " 6 = (끝-시작)+1 *시 = 2 / 끝 =7\n",
    " 12 *시 = 8 / 끝 = 19\n",
    " 18 *시 = 19 / 끝 = 37\n",
    " 24 *시 = 38\n",
    " 몇번째 테두리에 있는 지에 따라 지나는 방의 개수가 정해짐\n",
    "==> 1 + 6*n에 따라 범위가 나눠지며 각각의 범위순서대로 방의 개수를 1부터 점진적으로 늘어남 \n",
    "'''\n",
    "\n",
    "# 코드로 구현\n",
    "room = int(input())\n",
    "count = 1 # number of passing rooms\n",
    "start = 1 # to identify which range the room is included\n",
    "n = 1 # \n",
    "while room > start:\n",
    "    start = start + 6*count\n",
    "    count += 1\n",
    "print(count)\n",
    "\n",
    "\n",
    "\n"
   ]
  },
  {
   "cell_type": "code",
   "execution_count": 2,
   "metadata": {},
   "outputs": [
    {
     "name": "stdout",
     "output_type": "stream",
     "text": [
      "1/1\n"
     ]
    }
   ],
   "source": [
    "## 1193 분수찾기\n",
    "\n",
    "### 내 답 - but too much time = Fail\n",
    "\n",
    "## 수학규칙 찾기\n",
    "'''\n",
    "#1: 1/1\n",
    "#2: 1/2, 2/1\n",
    "#3: 3/1, 2/2, 1/3\n",
    "#4: 1/4, 2/3, 3/2, 4/1\n",
    "#5: 5/1, 4/2, 3/3, 2/4, 1/5\n",
    "#6: 1/6, 2/5, 3\n",
    "\n",
    "- 열별로 보면 뒤에 자리는 고정된채로 앞자리 수고 1부터 1씩 증가함을 알 수 있음\n",
    "- 이동에 따른 변화:\n",
    "오른쪽 이동: 뒤의 숫자 +1\n",
    "왼쪽 사선이동: 앞 숫자 +1, 뒷숫자 -1\n",
    "아래로 이동: 앞 숫자 +1\n",
    "오른쪽 사선이동: 앞-1. 뒤+1\n",
    "오른쪽 이동: 뒤+1\n",
    "\n",
    "다 최소 숫자가 1일 때 정지\n",
    "'''\n",
    "\n",
    "## 코드로 구현\n",
    "\n",
    "'''\n",
    "number = int(input())\n",
    "puzzle = [1,1]\n",
    "count = 1\n",
    "while count < number:\n",
    "    # 시작점에서 오른쪽으로 한칸 이동 후 왼쪽 사선으로 뒤가 1이 될때까지 이동\n",
    "    if puzzle == [1,1]:   # 시작점의 경우엔 둘 다 1이 되므로 예외적으로 처리해야함\n",
    "        puzzle[1] +=1   # 오른쪽으로 1 이동\n",
    "        count+=1\n",
    "        if count == number:\n",
    "            pass\n",
    "        else:\n",
    "            while puzzle[1] != 1:  # 왼쪽사선으로 이동 untill 뒤 = 1\n",
    "                puzzle[1] -= 1\n",
    "                puzzle[0] += 1\n",
    "                count += 1\n",
    "                if count == number:\n",
    "                    break\n",
    "    elif puzzle[1] == 1 and puzzle[0] != 1: # 뒤만 1인 경우\n",
    "        puzzle[0] +=1 # 아래로 한칸 이동\n",
    "        count += 1\n",
    "        if count == number:\n",
    "            pass\n",
    "        else:\n",
    "            while puzzle[0] != 1:  # 오른쪽사선으로 이동 untill 앞 = 1\n",
    "                puzzle[0] -= 1\n",
    "                puzzle[1] += 1\n",
    "                count +=1\n",
    "                if count == number:\n",
    "                    break\n",
    "    elif puzzle[0] == 1 and puzzle[1] != 1: # 앞만 1인경우 오른쪽으로 한칸 이동후 왼쪽 사선으로 뒤가 1이 될때까지 이동\n",
    "        puzzle[1] +=1   # 오른쪽으로 1 이동\n",
    "        count+=1\n",
    "        if count == number:\n",
    "            pass\n",
    "        else:\n",
    "            while puzzle[1] != 1:  # 왼쪽사선으로 이동 untill 뒤 = 1\n",
    "                puzzle[1] -= 1\n",
    "                puzzle[0] += 1\n",
    "                count += 1\n",
    "                if count == number:\n",
    "                    break\n",
    "\n",
    "print(f'{puzzle[0]}/{puzzle[1]}')\n",
    "'''\n",
    "\n",
    "\n",
    "\n",
    "### Dev_ch 정답참고\n",
    "\n",
    "## 수학적 원리:\n",
    "'''\n",
    "해당 순서를 토대로 배열 만들기 - 지그재그 이동 기준\n",
    "1/1\n",
    "1/2, 2/1\n",
    "3/1, 2/2, 3/3\n",
    "1/4, 2/3, 3/2, 4/1\n",
    "\n",
    "짝수행과 홀수행으로 구분\n",
    "짝수행: 분모가 1씩 늘어나고 분자가 1씩 줄어듦\n",
    "홀수행: 분자가 1씩 늘어나고 분모가 1씩 줄어듦\n",
    "'''\n",
    "\n",
    "## 코드로 구현\n",
    "\n",
    "num = int(input())\n",
    "line = 1\n",
    "\n",
    "while num > line: # 범위(속해있는 행) 찾기\n",
    "    num -= line # 처음에는 1, 다음은 2, 다음은 3과 같은 방식으로 축적되어 차감됨 --> 최종적으로 시작하는 지점이 됨\n",
    "    line += 1 # line은 시작점으로 1,2,4,7,...(숫자간규칙: +1+2+3...)\n",
    "# line은 몇번째 줄인가\n",
    "# num은 line번째 줄의 몇번 째 원소인가 --> 결국 시작점을 기준으로 점진적으로 빼기 때문에 마지막에 남는 수는 시작점에서 얼마만큼 벗어나 있는 지를 의미하는 나머지일 것이다\n",
    "\n",
    "# 짝수일경우\n",
    "if line % 2 == 0:\n",
    "    a = num # 시작점으로부터 1씩 증가하므로 결국 열기준 순번을 의미하는 num과 일치 \n",
    "    b = line - num + 1  # 반대로 끝점의 값에서 -1씩 감소하므로 최종값은 끝점 - 순번 + 1일 것이다.\n",
    "# 홀수일경우\n",
    "elif line % 2 == 1:\n",
    "    a = line - num + 1\n",
    "    b = num\n",
    "\n",
    "print(f'{a}/{b}')"
   ]
  },
  {
   "cell_type": "code",
   "execution_count": 19,
   "metadata": {},
   "outputs": [
    {
     "name": "stdout",
     "output_type": "stream",
     "text": [
      "999999901\n"
     ]
    }
   ],
   "source": [
    "# 2869 - 달팽이는 올라가고 싶다\n",
    "\n",
    "# 수학적 원리:\n",
    "'''\n",
    "환경:\n",
    "- 나무: v미터터\n",
    "행동별 결과\n",
    "- 낮 위로 이동: A미터\n",
    "- 밤 아래로 이동: B미터\n",
    "- 정상 도착 = 끝끝\n",
    "'''\n",
    "\n",
    "# 코드로 구현 - 1차 *시간초과 --> 다른 접근 필요\n",
    "'''\n",
    "move = 0 # 이동한 거리\n",
    "day = 1 # 일수 count\n",
    "A, B, V = map(int, input().split(' '))\n",
    "while move < V: # 정상에 도착하기 전까지\n",
    "    move += A\n",
    "    if move >= V:\n",
    "        break\n",
    "    else:\n",
    "        move -= B\n",
    "    day += 1\n",
    "print(day)\n",
    "'''\n",
    "\n",
    "# 수학적원리\n",
    "'''\n",
    "하루마다 움직이는 거리 = A-B\n",
    "총 일수: V / (A-B) \n",
    "    - 나머지가 생기는 경우: 다음날 A만큼 가면 도착임\n",
    "    - 완벽하게 떨어지는 경우: 그날 A만큼 갔을 때 이미 도착임\n",
    "\n",
    "ex)\n",
    "2 1 5\n",
    "2-1 = 1\n",
    "3-1 = 2\n",
    "4-1 = 3\n",
    "5-1 = 4인데 이미 도착 *\n",
    "6-1 = 5\n",
    "\n",
    "\n",
    "'''\n",
    "\n",
    "## 코드로 구현 - 2차\n",
    "# input 받기\n",
    "A, B, V = map(int, input().split(' '))\n",
    "# (V-A)/(A-B)\n",
    "    # 나머지 유: 몫 + 2\n",
    "    # 나머지 없음: 몫 + 1\n",
    "if (V-A)%(A-B) == 0:\n",
    "    day = (V-A)//(A-B) + 1\n",
    "else:\n",
    "    day = (V-A)//(A-B) + 2\n",
    "print(day)\n",
    "\n"
   ]
  },
  {
   "cell_type": "code",
   "execution_count": null,
   "metadata": {},
   "outputs": [],
   "source": []
  }
 ],
 "metadata": {
  "kernelspec": {
   "display_name": "base",
   "language": "python",
   "name": "python3"
  },
  "language_info": {
   "codemirror_mode": {
    "name": "ipython",
    "version": 3
   },
   "file_extension": ".py",
   "mimetype": "text/x-python",
   "name": "python",
   "nbconvert_exporter": "python",
   "pygments_lexer": "ipython3",
   "version": "3.11.7"
  }
 },
 "nbformat": 4,
 "nbformat_minor": 2
}
