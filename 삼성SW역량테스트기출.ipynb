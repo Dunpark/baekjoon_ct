{
 "cells": [
  {
   "cell_type": "markdown",
   "id": "1aa9a4ac",
   "metadata": {},
   "source": [
    "# 13450 - 구슬탈출2\n",
    "### 문제\n",
    "스타트링크에서 판매하는 어린이용 장난감 중에서 가장 인기가 많은 제품은 구슬 탈출이다. 구슬 탈출은 직사각형 보드에 빨간 구슬과 파란 구슬을 하나씩 넣은 다음, 빨간 구슬을 구멍을 통해 빼내는 게임이다.\n",
    "\n",
    "보드의 세로 크기는 N, 가로 크기는 M이고, 편의상 1×1크기의 칸으로 나누어져 있다. 가장 바깥 행과 열은 모두 막혀져 있고, 보드에는 구멍이 하나 있다. 빨간 구슬과 파란 구슬의 크기는 보드에서 1×1크기의 칸을 가득 채우는 사이즈이고, 각각 하나씩 들어가 있다. 게임의 목표는 빨간 구슬을 구멍을 통해서 빼내는 것이다. 이때, 파란 구슬이 구멍에 들어가면 안 된다.\n",
    "\n",
    "이때, 구슬을 손으로 건드릴 수는 없고, 중력을 이용해서 이리 저리 굴려야 한다. 왼쪽으로 기울이기, 오른쪽으로 기울이기, 위쪽으로 기울이기, 아래쪽으로 기울이기와 같은 네 가지 동작이 가능하다.\n",
    "\n",
    "각각의 동작에서 공은 동시에 움직인다. 빨간 구슬이 구멍에 빠지면 성공이지만, 파란 구슬이 구멍에 빠지면 실패이다. 빨간 구슬과 파란 구슬이 동시에 구멍에 빠져도 실패이다. 빨간 구슬과 파란 구슬은 동시에 같은 칸에 있을 수 없다. 또, 빨간 구슬과 파란 구슬의 크기는 한 칸을 모두 차지한다. 기울이는 동작을 그만하는 것은 더 이상 구슬이 움직이지 않을 때 까지이다.\n",
    "\n",
    "보드의 상태가 주어졌을 때, 최소 몇 번 만에 빨간 구슬을 구멍을 통해 빼낼 수 있는지 구하는 프로그램을 작성하시오.\n",
    "\n",
    "### 입력\n",
    "첫 번째 줄에는 보드의 세로, 가로 크기를 의미하는 두 정수 N, M (3 ≤ N, M ≤ 10)이 주어진다. 다음 N개의 줄에 보드의 모양을 나타내는 길이 M의 문자열이 주어진다. 이 문자열은 '.', '#', 'O', 'R', 'B' 로 이루어져 있다. '.'은 빈 칸을 의미하고, '#'은 공이 이동할 수 없는 장애물 또는 벽을 의미하며, 'O'는 구멍의 위치를 의미한다. 'R'은 빨간 구슬의 위치, 'B'는 파란 구슬의 위치이다.\n",
    "\n",
    "입력되는 모든 보드의 가장자리에는 모두 '#'이 있다. 구멍의 개수는 한 개 이며, 빨간 구슬과 파란 구슬은 항상 1개가 주어진다.\n",
    "\n",
    "### 출력\n",
    "최소 몇 번 만에 빨간 구슬을 구멍을 통해 빼낼 수 있는지 출력한다. 만약, 10번 이하로 움직여서 빨간 구슬을 구멍을 통해 빼낼 수 없으면 -1을 출력한다."
   ]
  },
  {
   "cell_type": "code",
   "execution_count": null,
   "id": "7e0b84b4",
   "metadata": {},
   "outputs": [
    {
     "data": {
      "text/plain": [
       "'\\n구성:\\n보드: \\n    - 전체 NxM 크기\\n    - 1x1 크기의 칸으로 나누어짐\\n    - 가장 바깥 행과 열은 모두 막혀 있음\\n    - 보드에는 구멍이 하나 있음\\n구슬:\\n    - 1x1 크기의 칸을 가득 채우는 사이즈\\n    - 각각 하나씩 보드에 들어 있음\\n게임목표:\\n    - 빨간 구슬을 구멍을 통해서 빼냄과 동시에 파란 구슬이 구멍으로 들어가는 것 방지 \\n게임방법:\\n    - 중력을 이용해 구슬을 굴림\\n        - 4 동작: 왼, 오, 위, 아래 기울이기\\n주의사항:\\n    - 동시에 빠져도 실패\\n    - 빨간 구슬과 파란 구슬은 동시에 같은 칸에 있을 수 없다\\n    - 구슬이 더 이상 움직이지 않을 때까지 기울이는 동작 그만\\n\\n\\n        - \\n'"
      ]
     },
     "execution_count": 2,
     "metadata": {},
     "output_type": "execute_result"
    }
   ],
   "source": [
    "## 문제정의\n",
    "'''\n",
    "구성요소:\n",
    "    보드: \n",
    "        - 전체 NxM 크기\n",
    "        - 1x1 크기의 칸으로 나누어짐\n",
    "        - 가장 바깥 행과 열은 모두 막혀 있음\n",
    "        - 보드에는 구멍이 하나 있음\n",
    "    구슬:\n",
    "        - 1x1 크기의 칸을 가득 채우는 사이즈\n",
    "        - 각각 하나씩 보드에 들어 있음\n",
    "게임목표:\n",
    "    - 빨간 구슬을 구멍을 통해서 빼냄과 동시에 파란 구슬이 구멍으로 들어가는 것 방지 \n",
    "        -> 보드의 상태에 따라 최소 몇 번만에 빨간 구슬을 구멍을 통해 뺴낼 수 있을 지 구하는 프로그램 작성하기\n",
    "게임방법:\n",
    "    - 중력을 이용해 구슬을 굴림\n",
    "        - 4 동작: 왼, 오, 위, 아래 기울이기\n",
    "주의사항:\n",
    "    - 동시에 빠져도 실패\n",
    "    - 빨간 구슬과 파란 구슬은 동시에 같은 칸에 있을 수 없다\n",
    "    - 구슬이 더 이상 움직이지 않을 때까지 기울이는 동작 그만\n",
    "'''\n",
    "\n",
    "## 코드구현 요소\n",
    "'''\n",
    "입력:\n",
    "    - 첫 줄에는 보드의 세로, 가로 크기를 의미하는 N,M.\n",
    "    - 다음 N개의 줄에 보드의 모양을 나타내는 길이 M의 문자열이 주여짐\n",
    "    - 문자열은 '.', '#', 'O', 'R', 'B' 로 이루어져 있다. \n",
    "        - '.'은 빈 칸을 의미\n",
    "        - '#'은 공이 이동할 수 없는 장애물 또는 벽을 의미\n",
    "            - 입력되는 모든 보드의 가장자리에는 모두 '#'이 있다.\n",
    "        - 'O'는 구멍의 위치를 의미\n",
    "            - 구멍의 개수는 한 개\n",
    "        - 'R'은 빨간 구슬의 위치 / 'B'는 파란 구슬의 위치이다.\n",
    "            빨간 구슬과 파란 구슬은 항상 1개가 주어진다.\n",
    "출력\n",
    "    - 최소 몇 번 만에 빨간 구슬을 구멍을 통해 빼낼 수 있는지 출력한다\n",
    "    - 만약, 10번 이하로 움직여서 빨간 구슬을 구멍을 통해 빼낼 수 없으면 -1을 출력한다.\n",
    "'''"
   ]
  },
  {
   "attachments": {
    "image.png": {
     "image/png": "[encoded data removed]"
    }
   },
   "cell_type": "markdown",
   "id": "36614a1b",
   "metadata": {},
   "source": [
    "![image.png](attachment:image.png)"
   ]
  },
  {
   "cell_type": "code",
   "execution_count": null,
   "id": "7e64ec18",
   "metadata": {},
   "outputs": [
    {
     "data": {
      "text/plain": [
       "'\\n1. 보드의 가로 세로 입력 input함수\\n2. 벡터를 통한 보드 모양 구현\\n    2-1: .으로 채워 생성 \\n    2-2: 가장 바깥쪽 요소는 #으로 replace\\n    2-3: 임의의 위치에 구멍, 빨간 구슬, 파란 구슬 위치 각각 생성 (가장자리 제외)\\n3. 보드를 기울이는 행위 구현\\n    3-1: ChatGPT로 적합한 알고리즘 찾아보기\\n    3-2: 직접 코드로 구현해보기\\n4. 결과 출력\\n    4-1: 최소 몇 번만에 빨간 구슬 빼낼 수 있는 지\\n    4-2: 10번이하로 값이 출력되면 대신에 -1 출력\\n'"
      ]
     },
     "execution_count": 3,
     "metadata": {},
     "output_type": "execute_result"
    }
   ],
   "source": [
    "### 코드구현 계획\n",
    "'''\n",
    "1. 보드의 가로 세로 입력 input함수\n",
    "2. 벡터를 통한 보드 모양 구현 -> 입력을 벡터화\n",
    "3. 보드를 기울이는 행위 구현\n",
    "    3-1: ChatGPT로 적합한 알고리즘 찾아보기\n",
    "    3-2: 직접 코드로 구현해보기\n",
    "4. 결과 출력\n",
    "    4-1: 최소 몇 번만에 빨간 구슬 빼낼 수 있는 지\n",
    "    4-2: 10번이하로 값이 출력되면 대신에 -1 출력\n",
    "'''"
   ]
  },
  {
   "cell_type": "code",
   "execution_count": null,
   "id": "addfe0d3",
   "metadata": {},
   "outputs": [],
   "source": [
    "### 코드구현\n",
    "## 1\n",
    "N, M = map(int, input().split(' '))\n",
    "## 2\n",
    "game_board = board()\n",
    "## 3\n",
    "\n",
    "\n",
    "\n"
   ]
  },
  {
   "cell_type": "code",
   "execution_count": null,
   "id": "df7533e6",
   "metadata": {},
   "outputs": [],
   "source": [
    "### 함수 정리\n",
    "def board():\n",
    "    board = []\n",
    "    for i in range(N):\n",
    "        board.append(list(input()))\n",
    "    return board"
   ]
  },
  {
   "cell_type": "code",
   "execution_count": 15,
   "id": "93e1518e",
   "metadata": {},
   "outputs": [
    {
     "data": {
      "text/plain": [
       "[['#', '#', '#', '#', '#'],\n",
       " ['#', '.', '.', 'B', '#'],\n",
       " ['#', '.', '#', '.', '#'],\n",
       " ['#', 'R', 'O', '.', '#'],\n",
       " ['#', '#', '#', '#', '#']]"
      ]
     },
     "execution_count": 15,
     "metadata": {},
     "output_type": "execute_result"
    }
   ],
   "source": [
    "# Test\n",
    "game_board"
   ]
  },
  {
   "cell_type": "code",
   "execution_count": null,
   "id": "2c632eed",
   "metadata": {},
   "outputs": [],
   "source": []
  }
 ],
 "metadata": {
  "kernelspec": {
   "display_name": "base",
   "language": "python",
   "name": "python3"
  },
  "language_info": {
   "codemirror_mode": {
    "name": "ipython",
    "version": 3
   },
   "file_extension": ".py",
   "mimetype": "text/x-python",
   "name": "python",
   "nbconvert_exporter": "python",
   "pygments_lexer": "ipython3",
   "version": "3.11.7"
  }
 },
 "nbformat": 4,
 "nbformat_minor": 5
}
