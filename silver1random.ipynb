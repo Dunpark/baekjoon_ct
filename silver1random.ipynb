{
 "cells": [
  {
   "cell_type": "markdown",
   "id": "2fe4ab06",
   "metadata": {},
   "source": [
    "# silver1 등급 백준 랜덤문제풀이"
   ]
  },
  {
   "cell_type": "markdown",
   "id": "d8b79aff",
   "metadata": {},
   "source": [
    "## 1080 - 행렬"
   ]
  },
  {
   "cell_type": "code",
   "execution_count": 2,
   "id": "bd4859ec",
   "metadata": {},
   "outputs": [
    {
     "data": {
      "text/plain": [
       "'\\n1. 행렬의 크기와 입력 받기\\n2. 행렬의 크기의 row와 콜럼이 각가 3이상인지 확인\\n    2-1: 3미만 --> -1 출력\\n    2-2: 3이상 --> 3번으로\\n3. 행렬변환 구현\\n    3-1: 뒤집혀야 하는 요소 파악하기\\n        ex) 예제1 (뒤집 O, 그대로 X)\\n            OXXO\\n            OXXO\\n            OXXO\\n    3-2: 뒤집혀야 하는 요소들을 파악한 3*3행렬의 경우 찾기\\n    3-3: 뒤집기 실행\\n4. B와의 일치정도 비교\\n    4-1: 불일치 --> 다시 3-1번으로  *count +1\\n    4-2: 일치 --> 횟수 프린트\\n'"
      ]
     },
     "execution_count": 2,
     "metadata": {},
     "output_type": "execute_result"
    }
   ],
   "source": [
    "## 코드plan - my ans\n",
    "'''\n",
    "1. 행렬의 크기와 입력 받기\n",
    "2. 행렬의 크기의 row와 콜럼이 각가 3이상인지 확인\n",
    "    2-1: 3미만 --> -1 출력\n",
    "    2-2: 3이상 --> 3번으로\n",
    "3. 행렬변환 구현\n",
    "    3-1: 뒤집혀야 하는 요소 파악하기\n",
    "        ex) 예제1 (뒤집 O, 그대로 X)\n",
    "            OXXO\n",
    "            OXXO\n",
    "            OXXO\n",
    "    3-2: 뒤집혀야 하는 요소들을 파악한 3*3행렬의 경우 찾기\n",
    "    3-3: 뒤집기 실행\n",
    "4. B와의 일치정도 비교\n",
    "    4-1: 불일치 --> 다시 3-1번으로  *count +1\n",
    "    4-2: 일치 --> 횟수 프린트\n",
    "'''"
   ]
  },
  {
   "cell_type": "code",
   "execution_count": null,
   "id": "e3752308",
   "metadata": {},
   "outputs": [
    {
     "name": "stdout",
     "output_type": "stream",
     "text": [
      "-1\n"
     ]
    }
   ],
   "source": [
    "## GPT선생의 답변\n",
    "\n",
    "'''\n",
    "# 그리디 알고리즘 활용\n",
    "- 왼쪽 위에서부터 탐색해야 누락없이 처리 가능\n",
    "    - A[i][j]가 다르면 (i,j)를 왼쪽 위(꼭짓점)으로 하는 3*3 부분행렬을 뒤집음\n",
    "    - 모든 연산 후 A == B이면 연산횟수 출력, 아니면 -1 출력\n",
    "# 제한사항\n",
    "- N,M < 3이면 뒤집기 불가능하기에 A==B인지 직접 비교해서 판단\n",
    "'''\n",
    "\n",
    "## 코드구현 my ans - runtime error\n",
    "\n",
    "# getting inputs and making matrix a,b\n",
    "N, M = map(int, input().split(' '))\n",
    "\n",
    "# checking whether transformation possible\n",
    "a = []\n",
    "for i in range(N):\n",
    "    a.append(list(map(int, input())))   # When splitting sucssesive values --> No need for .split()\n",
    "b = []\n",
    "for i in range(N):\n",
    "    b.append(list(map(int, input())))\n",
    "if N < 3 or M < 3:\n",
    "    print(-1)\n",
    "# finding a[i][j] that doesn't match and applying transformation(count steps)\n",
    "else:\n",
    "    count = 0\n",
    "    for i in range(M):\n",
    "        for j in range(N):\n",
    "            if a[i][j] != b[i][j]:\n",
    "                # Applying transformation to a[i][j] and updating counts\n",
    "                count +=1\n",
    "                for n in range(i, i+3):\n",
    "                    for m in range(j, j+3):\n",
    "                        if a[n][m] == 0:\n",
    "                            a[n][m] = 1\n",
    "                        else:\n",
    "                            a[n][m] = 0\n",
    "        # Comparing a and b \n",
    "        if a == b:\n",
    "            break\n",
    "    print(count)\n",
    "\n",
    "## GPT's Ans - using XOR operation & built functions TO REDUCE RUNTIME\n",
    "def flip(matrix, x, y):\n",
    "    for i in range(3):\n",
    "        for j in range(3):\n",
    "            matrix[x + i][y + j] ^= 1  # 0<->1 : XOR operation that toggls 0->1, 1->0\n",
    "\n",
    "def solve(N, M, A, B):\n",
    "    count = 0\n",
    "    for i in range(N - 2):\n",
    "        for j in range(M - 2):\n",
    "            if A[i][j] != B[i][j]:\n",
    "                flip(A, i, j)\n",
    "                count += 1\n",
    "    return count if A == B else -1\n",
    "\n",
    "# 입력 처리\n",
    "N, M = map(int, input().split())\n",
    "A = [list(map(int, list(input().strip()))) for _ in range(N)]\n",
    "B = [list(map(int, list(input().strip()))) for _ in range(N)]\n",
    "\n",
    "print(solve(N, M, A, B))\n"
   ]
  }
 ],
 "metadata": {
  "kernelspec": {
   "display_name": "base",
   "language": "python",
   "name": "python3"
  },
  "language_info": {
   "codemirror_mode": {
    "name": "ipython",
    "version": 3
   },
   "file_extension": ".py",
   "mimetype": "text/x-python",
   "name": "python",
   "nbconvert_exporter": "python",
   "pygments_lexer": "ipython3",
   "version": "3.11.7"
  }
 },
 "nbformat": 4,
 "nbformat_minor": 5
}
