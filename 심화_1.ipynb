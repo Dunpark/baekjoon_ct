{
 "cells": [
  {
   "cell_type": "code",
   "execution_count": 19,
   "metadata": {},
   "outputs": [
    {
     "name": "stdout",
     "output_type": "stream",
     "text": [
      "         ,r'\"7\n",
      "r`-_   ,'  ,/\n",
      " \\. \". L_r'\n",
      "   `~\\/\n",
      "      |\n",
      "      |\n",
      "\n"
     ]
    }
   ],
   "source": [
    "# 25803\n",
    "print('''         ,r'\"7 \n",
    "r`-_   ,'  ,/\n",
    " \\. \". L_r'\n",
    "   `~\\/\n",
    "      |\n",
    "      |\n",
    "''')\n",
    "# print(''' ''')를 사용하면 형식 그대로 출력됨"
   ]
  },
  {
   "cell_type": "code",
   "execution_count": 26,
   "metadata": {},
   "outputs": [
    {
     "name": "stdout",
     "output_type": "stream",
     "text": [
      "0 0 0 0 0 0\n"
     ]
    }
   ],
   "source": [
    "# 3003\n",
    "'''\n",
    "k, q, r, b, n, p = map(int,input().split())\n",
    "result = []\n",
    "result.append(1-k)\n",
    "result.append(1-q)\n",
    "result.append(2-r)\n",
    "result.append(2-b)\n",
    "result.append(2-n)\n",
    "result.append(8-p)\n",
    "for i in result:\n",
    "     print(i, end=' ')\n",
    "'''\n",
    "\n",
    "# GPT's ans\n",
    "pieces = [1, 1, 2, 2, 2, 8]\n",
    "print(*[p - x for p, x in zip(pieces, map(int, input().split()))])\n",
    "# the zip() function pairs each correct piece count with the input variable\n",
    "    # ex) list1: [1,2,3], list2: [a,b,c] --> zip(list1, list2) = [(1,a), (2,b), (3,c)]\n",
    "# p,x is brings each value of the paird groups.\n",
    "    # p = pieaces, x = inputs\n"
   ]
  },
  {
   "cell_type": "code",
   "execution_count": 12,
   "metadata": {},
   "outputs": [
    {
     "name": "stdout",
     "output_type": "stream",
     "text": [
      "      *      \n",
      "     ***     \n",
      "    *****    \n",
      "   *******   \n",
      "  *********  \n",
      " *********** \n",
      "*************\n",
      " *********** \n",
      "  *********  \n",
      "   *******   \n",
      "    *****    \n",
      "     ***     \n",
      "      *      \n"
     ]
    }
   ],
   "source": [
    "# 2444 - 1st try\n",
    "counts = int(input())\n",
    "total = counts*2-1\n",
    "for i in range(1,counts):\n",
    "    print((\"*\"*(2*i-1)).center(total)) # change centering width\n",
    "print((\"*\"*(total)).center(total))\n",
    "for i in range(counts-1, 0, -1):\n",
    "    print((\"*\"*(2*i-1)).center(total)) # change centering width"
   ]
  },
  {
   "cell_type": "code",
   "execution_count": null,
   "metadata": {},
   "outputs": [
    {
     "name": "stdout",
     "output_type": "stream",
     "text": [
      "    *\n",
      "   ***\n",
      "  *****\n",
      " *******\n",
      "*********\n",
      " *******\n",
      "  *****\n",
      "   ***\n",
      "    *\n"
     ]
    }
   ],
   "source": [
    "# 2444 - 2nd try (needs to have blank spaces on the left)\n",
    "counts = int(input())\n",
    "blanks = counts\n",
    "total = counts*2-1\n",
    "for i in range(1,counts):\n",
    "    print((\"*\"*(2*i-1)).rjust(blanks)) # change right adjusted width\n",
    "    blanks+=1\n",
    "print((\"*\"*(total)).rjust(blanks)) # change right adjusted width\n",
    "blanks -=1\n",
    "for i in range(counts-1, 0, -1): # range(start, stop, step)\n",
    "    print((\"*\"*(2*i-1)).rjust(blanks)) # change right adjusted width\n",
    "    blanks-=1\n",
    "    "
   ]
  },
  {
   "cell_type": "code",
   "execution_count": null,
   "metadata": {},
   "outputs": [
    {
     "name": "stdout",
     "output_type": "stream",
     "text": [
      "1\n"
     ]
    }
   ],
   "source": [
    "# 10988 - 팰린드롬 = 앞뒤가 똑같은(순서를 reverse해도 똑같은) 단어\n",
    "word = input()\n",
    "if word == word[::-1]:\n",
    "    print(1)\n",
    "else:\n",
    "    print(0)"
   ]
  },
  {
   "cell_type": "code",
   "execution_count": 31,
   "metadata": {},
   "outputs": [
    {
     "name": "stdout",
     "output_type": "stream",
     "text": [
      "?\n"
     ]
    }
   ],
   "source": [
    "# 1157 my ans\n",
    "\n",
    "'''\n",
    "counts = []\n",
    "max_letters=[]\n",
    "word = input().upper() # .upper() : changes to upper case letters\n",
    "for letters in word:\n",
    "    counts.append(word.count(letters))\n",
    "max_value = max(counts)\n",
    "max_indexes = [i for i, num in enumerate(counts) if num == max_value] \n",
    "# gets multiple values of i and makes a list. i is the index of values that match the max value\n",
    "# enumerate() gets the index values\n",
    "for i in max_indexes:\n",
    "    max_letters.append(word[i]) # gets the indexes of the letters with max counts\n",
    "max_letters = set(max_letters) # gets rid of repitition\n",
    "if len(max_letters) != 1:\n",
    "    print('?')\n",
    "else:\n",
    "    print(*max_letters)\n",
    "'''\n",
    "\n",
    "# optimization:\n",
    "    # count() is inefficient because it scans the entire string multiple times\n",
    "    # Avoid unnecessary list and set conversions\n",
    "\n",
    "# 1157 - gpt's ans\n",
    "from collections import Counter  # 1. Import Counter from collections\n",
    "word = input().upper()  # 2. Convert input to uppercase to handle case insensitivity\n",
    "counter = Counter(word)  # 3. Count occurrences of each letter using Counter --> dictionary type where keys are ltters, and values are count\n",
    "max_value = max(counter.values())  # 4. Find the highest frequency of any letter\n",
    "max_letters = [letter for letter, count in counter.items() if count == max_value]  # 5. Get all letters with the max frequency\n",
    "print('?') if len(max_letters) > 1 else print(max_letters[0])  # 6. If more than one letter has the max frequency, print '?', else print the letter"
   ]
  },
  {
   "cell_type": "code",
   "execution_count": 73,
   "metadata": {},
   "outputs": [
    {
     "name": "stdout",
     "output_type": "stream",
     "text": [
      "3\n"
     ]
    }
   ],
   "source": [
    "#2941\n",
    "import re\n",
    "croatian = ['c=', 'c-', 'dz=', 'd-', 'lj', 'nj','s=', 'z=']\n",
    "letters=0\n",
    "word = input()\n",
    "for i in croatian:\n",
    "    letters += word.count(i) # Counts the number of croatian letters in the word and adds to letters(variable)\n",
    "    word = word.replace(i, ' ') # replaces the found croatian letters with sapce so there is no confusion after the letters are deleted\n",
    "print(letters+len(word.replace(' ', ''))) # gets rid of the blanks and counts the left letters that aren't croatian"
   ]
  },
  {
   "cell_type": "code",
   "execution_count": 75,
   "metadata": {},
   "outputs": [
    {
     "data": {
      "text/plain": [
       "'\\nSpecial Characters: These have special meanings in regex and are used to create more complex patterns.\\n\\n. (dot): Matches any character except a newline.\\nExample: a.b matches \"acb\", \"aab\", \"a1b\", etc.\\n^ (caret): Matches the start of a string.\\nExample: ^Hello matches \"Hello\" at the beginning of the string.\\n$ (dollar sign): Matches the end of a string.\\nExample: world$ matches \"world\" at the end of the string.\\n[] (square brackets): Matches any single character inside the brackets.\\nExample: [aeiou] matches any vowel.\\n| (pipe): Logical OR operator, matches either the pattern before or after it.\\nExample: cat|dog matches either \"cat\" or \"dog\".\\n* (asterisk): Matches 0 or more of the preceding element.\\nExample: a* matches \"\", \"a\", \"aa\", \"aaa\", etc.\\n+ (plus): Matches 1 or more of the preceding element.\\nExample: a+ matches \"a\", \"aa\", \"aaa\", etc., but not \"\".\\n? (question mark): Matches 0 or 1 of the preceding element.\\nExample: a? matches \"\", \"a\".\\nCharacter Classes:\\n\\n\\\\d: Matches any digit (0-9).\\n\\\\D: Matches any non-digit.\\n\\\\w: Matches any word character (alphanumeric + underscore).\\n\\\\W: Matches any non-word character.\\n\\\\s: Matches any whitespace character (spaces, tabs, newlines).\\n\\\\S: Matches any non-whitespace character.\\nQuantifiers: Specify how many times the preceding element should be matched.\\n\\n{n}: Matches exactly n occurrences of the preceding element.\\nExample: a{2} matches \"aa\".\\n{n,}: Matches at least n occurrences of the preceding element.\\nExample: a{2,} matches \"aa\", \"aaa\", \"aaaa\", etc.\\n{n,m}: Matches between n and m occurrences of the preceding element.\\nExample: a{2,4} matches \"aa\", \"aaa\", or \"aaaa\".\\nGroups and Capturing: Use parentheses () to define groups.\\n\\nExample: (abc) matches the substring \"abc\".\\n\\x01: Refers to the first captured group in a regex.\\nEscape Characters: If you want to match a special character (like ., *, +, etc.) literally, you need to escape it with a backslash (\\\\).\\n\\nExample: \\\\. matches the dot character . literally.\\n'"
      ]
     },
     "execution_count": 75,
     "metadata": {},
     "output_type": "execute_result"
    }
   ],
   "source": [
    "# reg function: regular expressions\n",
    "# ex) pattern = \"|\".join(croatian_letters) : creates a regex pattern\n",
    "    # matches = re.findall(pattern, word) # Find all occurrences of croatian alphabets\n",
    "# componenets of regex pattern:\n",
    "'''\n",
    "Special Characters: These have special meanings in regex and are used to create more complex patterns.\n",
    "\n",
    ". (dot): Matches any character except a newline.\n",
    "Example: a.b matches \"acb\", \"aab\", \"a1b\", etc.\n",
    "^ (caret): Matches the start of a string.\n",
    "Example: ^Hello matches \"Hello\" at the beginning of the string.\n",
    "$ (dollar sign): Matches the end of a string.\n",
    "Example: world$ matches \"world\" at the end of the string.\n",
    "[] (square brackets): Matches any single character inside the brackets.\n",
    "Example: [aeiou] matches any vowel.\n",
    "| (pipe): Logical OR operator, matches either the pattern before or after it.\n",
    "Example: cat|dog matches either \"cat\" or \"dog\".\n",
    "* (asterisk): Matches 0 or more of the preceding element.\n",
    "Example: a* matches \"\", \"a\", \"aa\", \"aaa\", etc.\n",
    "+ (plus): Matches 1 or more of the preceding element.\n",
    "Example: a+ matches \"a\", \"aa\", \"aaa\", etc., but not \"\".\n",
    "? (question mark): Matches 0 or 1 of the preceding element.\n",
    "Example: a? matches \"\", \"a\".\n",
    "Character Classes:\n",
    "\n",
    "\\d: Matches any digit (0-9).\n",
    "\\D: Matches any non-digit.\n",
    "\\w: Matches any word character (alphanumeric + underscore).\n",
    "\\W: Matches any non-word character.\n",
    "\\s: Matches any whitespace character (spaces, tabs, newlines).\n",
    "\\S: Matches any non-whitespace character.\n",
    "Quantifiers: Specify how many times the preceding element should be matched.\n",
    "\n",
    "{n}: Matches exactly n occurrences of the preceding element.\n",
    "Example: a{2} matches \"aa\".\n",
    "{n,}: Matches at least n occurrences of the preceding element.\n",
    "Example: a{2,} matches \"aa\", \"aaa\", \"aaaa\", etc.\n",
    "{n,m}: Matches between n and m occurrences of the preceding element.\n",
    "Example: a{2,4} matches \"aa\", \"aaa\", or \"aaaa\".\n",
    "Groups and Capturing: Use parentheses () to define groups.\n",
    "\n",
    "Example: (abc) matches the substring \"abc\".\n",
    "\\1: Refers to the first captured group in a regex.\n",
    "Escape Characters: If you want to match a special character (like ., *, +, etc.) literally, you need to escape it with a backslash (\\).\n",
    "\n",
    "Example: \\. matches the dot character . literally.\n",
    "'''"
   ]
  },
  {
   "cell_type": "code",
   "execution_count": null,
   "metadata": {},
   "outputs": [
    {
     "data": {
      "text/plain": [
       "[['a', 'a'], ['b', 'b'], ['a', 'a'], ['b', 'b']]"
      ]
     },
     "execution_count": 11,
     "metadata": {},
     "output_type": "execute_result"
    }
   ],
   "source": [
    "# 1316\n",
    "import re\n",
    "word = input()\n",
    "matches = []\n",
    "for i in word:\n",
    "    pattern1 = \"|\".join(i)\n",
    "    pattern2 = \"+\".join(i)\n",
    "    matches1.append(re.findall(pattern1,word))\n",
    "    matches2.append(re.findall(pattern2,word))\n",
    "matches1"
   ]
  },
  {
   "cell_type": "code",
   "execution_count": null,
   "metadata": {},
   "outputs": [],
   "source": []
  }
 ],
 "metadata": {
  "kernelspec": {
   "display_name": "base",
   "language": "python",
   "name": "python3"
  },
  "language_info": {
   "codemirror_mode": {
    "name": "ipython",
    "version": 3
   },
   "file_extension": ".py",
   "mimetype": "text/x-python",
   "name": "python",
   "nbconvert_exporter": "python",
   "pygments_lexer": "ipython3",
   "version": "3.11.7"
  }
 },
 "nbformat": 4,
 "nbformat_minor": 2
}
