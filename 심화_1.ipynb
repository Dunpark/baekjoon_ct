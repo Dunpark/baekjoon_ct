{
 "cells": [
  {
   "cell_type": "code",
   "execution_count": 19,
   "metadata": {},
   "outputs": [
    {
     "name": "stdout",
     "output_type": "stream",
     "text": [
      "         ,r'\"7\n",
      "r`-_   ,'  ,/\n",
      " \\. \". L_r'\n",
      "   `~\\/\n",
      "      |\n",
      "      |\n",
      "\n"
     ]
    }
   ],
   "source": [
    "# 25803\n",
    "print('''         ,r'\"7 \n",
    "r`-_   ,'  ,/\n",
    " \\. \". L_r'\n",
    "   `~\\/\n",
    "      |\n",
    "      |\n",
    "''')\n",
    "# print(''' ''')를 사용하면 형식 그대로 출력됨"
   ]
  },
  {
   "cell_type": "code",
   "execution_count": 26,
   "metadata": {},
   "outputs": [
    {
     "name": "stdout",
     "output_type": "stream",
     "text": [
      "0 0 0 0 0 0\n"
     ]
    }
   ],
   "source": [
    "# 3003\n",
    "'''\n",
    "k, q, r, b, n, p = map(int,input().split())\n",
    "result = []\n",
    "result.append(1-k)\n",
    "result.append(1-q)\n",
    "result.append(2-r)\n",
    "result.append(2-b)\n",
    "result.append(2-n)\n",
    "result.append(8-p)\n",
    "for i in result:\n",
    "     print(i, end=' ')\n",
    "'''\n",
    "\n",
    "# GPT's ans\n",
    "pieces = [1, 1, 2, 2, 2, 8]\n",
    "print(*[p - x for p, x in zip(pieces, map(int, input().split()))])\n",
    "# the zip() function pairs each correct piece count with the input variable\n",
    "    # ex) list1: [1,2,3], list2: [a,b,c] --> zip(list1, list2) = [(1,a), (2,b), (3,c)]\n",
    "# p,x is brings each value of the paird groups.\n",
    "    # p = pieaces, x = inputs\n"
   ]
  },
  {
   "cell_type": "code",
   "execution_count": 31,
   "metadata": {},
   "outputs": [
    {
     "name": "stdout",
     "output_type": "stream",
     "text": [
      "                   0 0 0 0 0 0                    \n"
     ]
    }
   ],
   "source": [
    "pieces = [1, 1, 2, 2, 2, 8]\n",
    "result = [p - x for p, x in zip(pieces, map(int, input().split()))]\n",
    "output = \" \".join(map(str, result))  # Convert list to space-separated string\n",
    "print(output.center(50))  # Adjust 50 to change centering width\n"
   ]
  },
  {
   "cell_type": "code",
   "execution_count": 30,
   "metadata": {},
   "outputs": [
    {
     "name": "stdout",
     "output_type": "stream",
     "text": [
      "<zip object at 0x000001B5A9F48E80>\n"
     ]
    }
   ],
   "source": [
    "pieces = [1, 1, 2, 2, 2, 8]\n",
    "a = zip(pieces, map(int, input().split()))\n",
    "print(a)"
   ]
  }
 ],
 "metadata": {
  "kernelspec": {
   "display_name": "base",
   "language": "python",
   "name": "python3"
  },
  "language_info": {
   "codemirror_mode": {
    "name": "ipython",
    "version": 3
   },
   "file_extension": ".py",
   "mimetype": "text/x-python",
   "name": "python",
   "nbconvert_exporter": "python",
   "pygments_lexer": "ipython3",
   "version": "3.11.7"
  }
 },
 "nbformat": 4,
 "nbformat_minor": 2
}
