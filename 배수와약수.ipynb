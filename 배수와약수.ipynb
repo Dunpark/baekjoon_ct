{
 "cells": [
  {
   "cell_type": "code",
   "execution_count": 3,
   "id": "48ea4af2",
   "metadata": {},
   "outputs": [],
   "source": [
    "### 5086 배수와 약수\n",
    "\n",
    "## 수학적 원리\n",
    "'''\n",
    "factor: 뒷수를 앞수로 나누면 0 \n",
    "multiple: 앞수를 뒷수로 나누면 0 \n",
    "neither: 둘 다 아님\n",
    "'''\n",
    "\n",
    "## 코드구현\n",
    "while True:\n",
    "    a,b = map(int, input().split(' '))\n",
    "    if a == 0 and b == 0:\n",
    "        break\n",
    "    elif b % a == 0:\n",
    "        print('factor')\n",
    "    elif a % b == 0:\n",
    "        print('multiple')\n",
    "    else: \n",
    "        print('neither')\n",
    "\n",
    "\n"
   ]
  },
  {
   "cell_type": "code",
   "execution_count": 1,
   "id": "e95b5ce0",
   "metadata": {},
   "outputs": [
    {
     "name": "stdout",
     "output_type": "stream",
     "text": [
      "1\n"
     ]
    }
   ],
   "source": [
    "### 2501 - 약수 구하기\n",
    "\n",
    "### 수학적 원리\n",
    "# 약수의 개수 = 나머지가 0 인수들\n",
    "\n",
    "### 코드구현\n",
    "# input K, N\n",
    "# 1부터 K를 나눳을 때 나머지가 0 인수를 구하고 count로 축적\n",
    "# count가 N일 때 stop\n",
    "\n",
    "n,k = map(int,input().split(' '))\n",
    "res=0\n",
    "for i in range(1,n+1):\n",
    "    if n%i==0:\n",
    "        k-=1    # when counting numbers with a certain limit --> Use descending method\n",
    "        if k==0:\n",
    "            res=i\n",
    "print(res)"
   ]
  },
  {
   "cell_type": "code",
   "execution_count": 29,
   "id": "ef12decc",
   "metadata": {},
   "outputs": [
    {
     "name": "stdout",
     "output_type": "stream",
     "text": [
      "1 is NOT perfect.\n"
     ]
    },
    {
     "ename": "ValueError",
     "evalue": "invalid literal for int() with base 10: ''",
     "output_type": "error",
     "traceback": [
      "\u001b[1;31m---------------------------------------------------------------------------\u001b[0m",
      "\u001b[1;31mValueError\u001b[0m                                Traceback (most recent call last)",
      "Cell \u001b[1;32mIn[29], line 15\u001b[0m\n\u001b[0;32m     13\u001b[0m \u001b[38;5;28;01mwhile\u001b[39;00m \u001b[38;5;28;01mTrue\u001b[39;00m:\n\u001b[0;32m     14\u001b[0m     total \u001b[38;5;241m=\u001b[39m []\n\u001b[1;32m---> 15\u001b[0m     num \u001b[38;5;241m=\u001b[39m \u001b[38;5;28mint\u001b[39m(\u001b[38;5;28minput\u001b[39m())\n\u001b[0;32m     16\u001b[0m     \u001b[38;5;28;01mif\u001b[39;00m num \u001b[38;5;241m==\u001b[39m \u001b[38;5;241m-\u001b[39m\u001b[38;5;241m1\u001b[39m:\n\u001b[0;32m     17\u001b[0m         \u001b[38;5;28;01mbreak\u001b[39;00m\n",
      "\u001b[1;31mValueError\u001b[0m: invalid literal for int() with base 10: ''"
     ]
    }
   ],
   "source": [
    "### 9506 - 약수들의 합\n",
    "\n",
    "## 코드 plan\n",
    "'''\n",
    "1. -1이 입력될때까지 input을 받는 while루프 생성\n",
    "2. 입력의 약수 찾고 찾으면 특정 변수에 축적합 저장하기\n",
    "    2-1: for loop를 통해 1~해당수까지의 범위에 있는 수들에 대해 나머지가 0인지 확인\n",
    "    2-2: 나머지가 0인 수들의 축적합 구성\n",
    "3. 만약 축적합이 해당수와 동일하면 식 출력 / 다르면 is not perfect 출력\n",
    "'''\n",
    "\n",
    "## 코드구현\n",
    "while True:\n",
    "    total = []\n",
    "    num = int(input())\n",
    "    if num == -1:\n",
    "        break\n",
    "    for i in range(1,num):\n",
    "        if num%i==0:\n",
    "            total.append(i)\n",
    "    if sum(total) == num:\n",
    "        print(f'{num} = {1}', end='')\n",
    "        total.remove(1)\n",
    "        for j in total:\n",
    "            print(f' + {j}', end='')\n",
    "        print('')\n",
    "    else:\n",
    "        print(f'{num} is NOT perfect.')      \n",
    "            \n",
    "\n",
    "    \n"
   ]
  },
  {
   "cell_type": "code",
   "execution_count": null,
   "id": "8fdb1c36",
   "metadata": {},
   "outputs": [
    {
     "data": {
      "text/plain": [
       "[1, 3]"
      ]
     },
     "execution_count": 20,
     "metadata": {},
     "output_type": "execute_result"
    }
   ],
   "source": []
  }
 ],
 "metadata": {
  "kernelspec": {
   "display_name": "base",
   "language": "python",
   "name": "python3"
  },
  "language_info": {
   "codemirror_mode": {
    "name": "ipython",
    "version": 3
   },
   "file_extension": ".py",
   "mimetype": "text/x-python",
   "name": "python",
   "nbconvert_exporter": "python",
   "pygments_lexer": "ipython3",
   "version": "3.11.7"
  }
 },
 "nbformat": 4,
 "nbformat_minor": 5
}
