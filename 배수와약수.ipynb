{
 "cells": [
  {
   "cell_type": "code",
   "execution_count": 3,
   "id": "48ea4af2",
   "metadata": {},
   "outputs": [],
   "source": [
    "### 5086 배수와 약수\n",
    "\n",
    "## 수학적 원리\n",
    "'''\n",
    "factor: 뒷수를 앞수로 나누면 0 \n",
    "multiple: 앞수를 뒷수로 나누면 0 \n",
    "neither: 둘 다 아님\n",
    "'''\n",
    "\n",
    "## 코드구현\n",
    "while True:\n",
    "    a,b = map(int, input().split(' '))\n",
    "    if a == 0 and b == 0:\n",
    "        break\n",
    "    elif b % a == 0:\n",
    "        print('factor')\n",
    "    elif a % b == 0:\n",
    "        print('multiple')\n",
    "    else: \n",
    "        print('neither')\n",
    "\n",
    "\n"
   ]
  },
  {
   "cell_type": "code",
   "execution_count": 1,
   "id": "e95b5ce0",
   "metadata": {},
   "outputs": [
    {
     "name": "stdout",
     "output_type": "stream",
     "text": [
      "1\n"
     ]
    }
   ],
   "source": [
    "### 2501 - 약수 구하기\n",
    "\n",
    "### 수학적 원리\n",
    "# 약수의 개수 = 나머지가 0 인수들\n",
    "\n",
    "### 코드구현\n",
    "# input K, N\n",
    "# 1부터 K를 나눳을 때 나머지가 0 인수를 구하고 count로 축적\n",
    "# count가 N일 때 stop\n",
    "\n",
    "n,k = map(int,input().split(' '))\n",
    "res=0\n",
    "for i in range(1,n+1):\n",
    "    if n%i==0:\n",
    "        k-=1    # when counting numbers with a certain limit --> Use descending method\n",
    "        if k==0:\n",
    "            res=i\n",
    "print(res)"
   ]
  },
  {
   "cell_type": "code",
   "execution_count": null,
   "id": "ef12decc",
   "metadata": {},
   "outputs": [
    {
     "name": "stdout",
     "output_type": "stream",
     "text": [
      "1 is NOT perfect.\n"
     ]
    },
    {
     "ename": "ValueError",
     "evalue": "invalid literal for int() with base 10: ''",
     "output_type": "error",
     "traceback": [
      "\u001b[1;31m---------------------------------------------------------------------------\u001b[0m",
      "\u001b[1;31mValueError\u001b[0m                                Traceback (most recent call last)",
      "Cell \u001b[1;32mIn[29], line 15\u001b[0m\n\u001b[0;32m     13\u001b[0m \u001b[38;5;28;01mwhile\u001b[39;00m \u001b[38;5;28;01mTrue\u001b[39;00m:\n\u001b[0;32m     14\u001b[0m     total \u001b[38;5;241m=\u001b[39m []\n\u001b[1;32m---> 15\u001b[0m     num \u001b[38;5;241m=\u001b[39m \u001b[38;5;28mint\u001b[39m(\u001b[38;5;28minput\u001b[39m())\n\u001b[0;32m     16\u001b[0m     \u001b[38;5;28;01mif\u001b[39;00m num \u001b[38;5;241m==\u001b[39m \u001b[38;5;241m-\u001b[39m\u001b[38;5;241m1\u001b[39m:\n\u001b[0;32m     17\u001b[0m         \u001b[38;5;28;01mbreak\u001b[39;00m\n",
      "\u001b[1;31mValueError\u001b[0m: invalid literal for int() with base 10: ''"
     ]
    }
   ],
   "source": [
    "### 9506 - 약수들의 합\n",
    "\n",
    "## 코드 plan\n",
    "'''\n",
    "1. -1이 입력될때까지 input을 받는 while루프 생성\n",
    "2. 입력의 약수 찾고 찾으면 특정 변수에 축적합 저장하기\n",
    "    2-1: for loop를 통해 1~해당수까지의 범위에 있는 수들에 대해 나머지가 0인지 확인\n",
    "    2-2: 나머지가 0인 수들의 축적합 구성\n",
    "3. 만약 축적합이 해당수와 동일하면 식 출력 / 다르면 is not perfect 출력\n",
    "'''\n",
    "\n",
    "## 코드구현\n",
    "while True:\n",
    "    total = []\n",
    "    num = int(input())\n",
    "    if num == -1:\n",
    "        break\n",
    "    for i in range(1,num):\n",
    "        if num%i==0:\n",
    "            total.append(i)\n",
    "    if sum(total) == num:\n",
    "        print(f'{num} = {1}', end='')\n",
    "        total.remove(1)\n",
    "        for j in total:\n",
    "            print(f' + {j}', end='')\n",
    "        print('')\n",
    "    else:\n",
    "        print(f'{num} is NOT perfect.')      "
   ]
  },
  {
   "cell_type": "code",
   "execution_count": 32,
   "id": "8fdb1c36",
   "metadata": {},
   "outputs": [
    {
     "name": "stdout",
     "output_type": "stream",
     "text": [
      "4\n"
     ]
    }
   ],
   "source": [
    "### 1978 - 소수찾기\n",
    "\n",
    "## 코드계획\n",
    "'''\n",
    "1. for루프로 N만큼 input받기\n",
    "2. 어떤 수 n에 대해 2에서 제곱근n까지의 수 중 하나로 n을 나눴을 때 나머지가 0이 되는 수가 없으면 소수임\n",
    "    *제곱근n은 효율성을 위해서임(n까지의 수로 나눌 필요X)\n",
    "3. 소수를 리스트에 추가하고 개수 count로 출력하기\n",
    "'''\n",
    "\n",
    "## 코드구현\n",
    "count = 0\n",
    "N = int(input())\n",
    "n = list(map(int, input().split(' ')))\n",
    "for j in n:\n",
    "    if j < 2:\n",
    "        pass\n",
    "    else:\n",
    "        for k in range(2, int(j**0.5)+1):   # 근이 포함된 수에 int()를 덮으면 해당값을 넘지 않는 정수로 변환됨\n",
    "            if j % k == 0:\n",
    "                break   # breaks whole loops(outside as well)\n",
    "        else:\n",
    "            count +=1\n",
    "print(count)\n"
   ]
  },
  {
   "cell_type": "code",
   "execution_count": null,
   "id": "79eebf26",
   "metadata": {},
   "outputs": [
    {
     "name": "stdout",
     "output_type": "stream",
     "text": [
      "0\n",
      "-1\n"
     ]
    }
   ],
   "source": [
    "## 2581: 소수\n",
    "\n",
    "## 코드구현\n",
    "prime = []\n",
    "M = int(input())\n",
    "N = int(input())\n",
    "for j in range(M,N+1):\n",
    "    if j < 2:\n",
    "        pass\n",
    "    else:\n",
    "        for k in range(2, int(j**0.5)+1):   # 근이 포함된 수에 int()를 덮으면 해당값을 넘지 않는 정수로 변환됨\n",
    "            if j % k == 0:\n",
    "                break   # breaks whole loops(outside as well)\n",
    "        else:\n",
    "            prime.append(j)\n",
    "if len(prime) == 0:\n",
    "    print(-1)\n",
    "else:\n",
    "    print(sum(prime))    \n",
    "    print(prime[0])\n"
   ]
  },
  {
   "cell_type": "code",
   "execution_count": null,
   "id": "79a1befc",
   "metadata": {},
   "outputs": [
    {
     "name": "stdout",
     "output_type": "stream",
     "text": [
      "97\n",
      "103\n"
     ]
    }
   ],
   "source": [
    "### 소인수분해\n",
    "\n",
    "## 코드 plan\n",
    "'''\n",
    "입력된 수를 이루는 소인수들을 모두 리스트에 정리\n",
    "리스트에 있는 수들을 나머지가 0이 안될 때까지 나누기\n",
    "'''\n",
    "\n",
    "## 코드구현\n",
    "N = int(input())\n",
    "if N < 2:\n",
    "    pass\n",
    "else:\n",
    "    for k in range(2, int(N**0.5)+1):   # 근이 포함된 수에 int()를 덮으면 해당값을 넘지 않는 정수로 변환됨 --> 시간단축\n",
    "        while N % k == 0:\n",
    "            N //= k  # //도 바로 작성가능능\n",
    "            print(k)\n",
    "if N > 1:\n",
    "    print(N) # 마지막 소인수는 다른 소인수들로 나눴을 경우에 남게 됨 \n"
   ]
  }
 ],
 "metadata": {
  "kernelspec": {
   "display_name": "base",
   "language": "python",
   "name": "python3"
  },
  "language_info": {
   "codemirror_mode": {
    "name": "ipython",
    "version": 3
   },
   "file_extension": ".py",
   "mimetype": "text/x-python",
   "name": "python",
   "nbconvert_exporter": "python",
   "pygments_lexer": "ipython3",
   "version": "3.11.7"
  }
 },
 "nbformat": 4,
 "nbformat_minor": 5
}
