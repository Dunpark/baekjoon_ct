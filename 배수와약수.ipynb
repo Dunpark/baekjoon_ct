{
 "cells": [
  {
   "cell_type": "code",
   "execution_count": null,
   "id": "48ea4af2",
   "metadata": {},
   "outputs": [],
   "source": [
    "### 5086 배수와 약수\n",
    "\n",
    "## 수학적 원리\n",
    "'''\n",
    "factor: 뒷수를 앞수로 나누면 0 \n",
    "multiple: 앞수를 뒷수로 나누면 0 \n",
    "neither: 둘 다 아님\n",
    "'''\n",
    "\n",
    "## 코드구현\n",
    "while a !=0 and b != 0:\n",
    "    a,b = map(int, input().split(' '))\n",
    "    if b % a == 0:\n",
    "        print('factor')\n",
    "    elif a % b == 0:\n",
    "        print('multiple')\n",
    "    elif a == 0 and b == 0:\n",
    "        \n",
    "    else: \n",
    "        print('neither')\n",
    "\n",
    "\n"
   ]
  }
 ],
 "metadata": {
  "language_info": {
   "name": "python"
  }
 },
 "nbformat": 4,
 "nbformat_minor": 5
}
